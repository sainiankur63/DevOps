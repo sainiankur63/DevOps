{
  "cells": [
    {
      "cell_type": "markdown",
      "metadata": {
        "id": "view-in-github",
        "colab_type": "text"
      },
      "source": [
        "<a href=\"https://colab.research.google.com/github/sainiankur63/DevOps/blob/master/FinalNotebook.ipynb\" target=\"_parent\"><img src=\"https://colab.research.google.com/assets/colab-badge.svg\" alt=\"Open In Colab\"/></a>"
      ]
    },
    {
      "cell_type": "code",
      "execution_count": 1,
      "metadata": {
        "id": "hzmrlspXdmem"
      },
      "outputs": [],
      "source": [
        "!pip install pandas numpy pandas matplotlib seaborn opendatasets --quiet"
      ]
    },
    {
      "cell_type": "code",
      "execution_count": 2,
      "metadata": {
        "id": "WUaHc5k6dsD7"
      },
      "outputs": [],
      "source": [
        "# To show all columns' names on a large pandas dataframe\n",
        "import pandas as pd\n",
        "import matplotlib\n",
        "import seaborn as sns\n",
        "import numpy as np\n",
        "from matplotlib import pyplot as plt\n",
        "import warnings\n",
        "warnings.filterwarnings('ignore')\n",
        "\n",
        "%matplotlib inline\n",
        "matplotlib.rcParams['figure.figsize'] = (8,4)\n",
        "pd.set_option('display.max_columns', None)"
      ]
    },
    {
      "cell_type": "code",
      "execution_count": 3,
      "metadata": {
        "colab": {
          "base_uri": "https://localhost:8080/"
        },
        "id": "7W5jeiVNd4K-",
        "outputId": "1c1f1ec6-c4d3-46be-afa8-93fbff167e5f"
      },
      "outputs": [
        {
          "output_type": "stream",
          "name": "stdout",
          "text": [
            "Skipping, found downloaded files in \"./craigslist-carstrucks-data\" (use force=True to force download)\n"
          ]
        }
      ],
      "source": [
        "import opendatasets as od\n",
        "dataset_url = 'https://www.kaggle.com/austinreese/craigslist-carstrucks-data'\n",
        "\n",
        "\n",
        "od.download(dataset_url)\n",
        "\n",
        "data_dir = './craigslist-carstrucks-data'"
      ]
    },
    {
      "cell_type": "code",
      "execution_count": 4,
      "metadata": {
        "id": "_KSosU0Id4vH"
      },
      "outputs": [],
      "source": [
        "# Taking 10 percent fraction of the dataset\n",
        "sample_frac = 0.1\n",
        "\n",
        "\n",
        "import random\n",
        "\n",
        "def skip_row(row_idx):\n",
        "    if row_idx == 0:\n",
        "        return False\n",
        "    return random.random() > sample_frac\n",
        "\n",
        "random.seed(42)\n",
        "df = pd.read_csv(data_dir+\"/vehicles.csv\", skiprows=skip_row)"
      ]
    },
    {
      "cell_type": "code",
      "execution_count": 5,
      "metadata": {
        "colab": {
          "base_uri": "https://localhost:8080/",
          "height": 300
        },
        "id": "KsKkjw9p16bU",
        "outputId": "89d4c301-1216-4b15-ebf7-03f554d1f894"
      },
      "outputs": [
        {
          "output_type": "execute_result",
          "data": {
            "text/plain": [
              "                   id           price       year      odometer county  \\\n",
              "count       42753.000       42753.000  42628.000     42289.000  0.000   \n",
              "mean   7311454449.223      105148.023   2011.227     97208.376    nan   \n",
              "std       4560180.477    18073074.335      9.404    180850.953    nan   \n",
              "min    7216549243.000           0.000   1900.000         0.000    nan   \n",
              "25%    7308129668.000        5900.000   2008.000     37647.000    nan   \n",
              "50%    7312509327.000       13790.000   2013.000     86000.000    nan   \n",
              "75%    7315245979.000       25995.000   2017.000    133846.000    nan   \n",
              "max    7317098055.000  3736928711.000   2022.000  10000000.000    nan   \n",
              "\n",
              "             lat       long  \n",
              "count  42046.000  42046.000  \n",
              "mean      38.510    -94.752  \n",
              "std        5.809     18.340  \n",
              "min      -34.613   -159.469  \n",
              "25%       34.640   -111.984  \n",
              "50%       39.160    -88.423  \n",
              "75%       42.426    -80.830  \n",
              "max       64.948     94.163  "
            ],
            "text/html": [
              "\n",
              "  <div id=\"df-f36de63f-f5c6-4af9-b550-aa49b0ca170f\">\n",
              "    <div class=\"colab-df-container\">\n",
              "      <div>\n",
              "<style scoped>\n",
              "    .dataframe tbody tr th:only-of-type {\n",
              "        vertical-align: middle;\n",
              "    }\n",
              "\n",
              "    .dataframe tbody tr th {\n",
              "        vertical-align: top;\n",
              "    }\n",
              "\n",
              "    .dataframe thead th {\n",
              "        text-align: right;\n",
              "    }\n",
              "</style>\n",
              "<table border=\"1\" class=\"dataframe\">\n",
              "  <thead>\n",
              "    <tr style=\"text-align: right;\">\n",
              "      <th></th>\n",
              "      <th>id</th>\n",
              "      <th>price</th>\n",
              "      <th>year</th>\n",
              "      <th>odometer</th>\n",
              "      <th>county</th>\n",
              "      <th>lat</th>\n",
              "      <th>long</th>\n",
              "    </tr>\n",
              "  </thead>\n",
              "  <tbody>\n",
              "    <tr>\n",
              "      <th>count</th>\n",
              "      <td>42753.000</td>\n",
              "      <td>42753.000</td>\n",
              "      <td>42628.000</td>\n",
              "      <td>42289.000</td>\n",
              "      <td>0.000</td>\n",
              "      <td>42046.000</td>\n",
              "      <td>42046.000</td>\n",
              "    </tr>\n",
              "    <tr>\n",
              "      <th>mean</th>\n",
              "      <td>7311454449.223</td>\n",
              "      <td>105148.023</td>\n",
              "      <td>2011.227</td>\n",
              "      <td>97208.376</td>\n",
              "      <td>nan</td>\n",
              "      <td>38.510</td>\n",
              "      <td>-94.752</td>\n",
              "    </tr>\n",
              "    <tr>\n",
              "      <th>std</th>\n",
              "      <td>4560180.477</td>\n",
              "      <td>18073074.335</td>\n",
              "      <td>9.404</td>\n",
              "      <td>180850.953</td>\n",
              "      <td>nan</td>\n",
              "      <td>5.809</td>\n",
              "      <td>18.340</td>\n",
              "    </tr>\n",
              "    <tr>\n",
              "      <th>min</th>\n",
              "      <td>7216549243.000</td>\n",
              "      <td>0.000</td>\n",
              "      <td>1900.000</td>\n",
              "      <td>0.000</td>\n",
              "      <td>nan</td>\n",
              "      <td>-34.613</td>\n",
              "      <td>-159.469</td>\n",
              "    </tr>\n",
              "    <tr>\n",
              "      <th>25%</th>\n",
              "      <td>7308129668.000</td>\n",
              "      <td>5900.000</td>\n",
              "      <td>2008.000</td>\n",
              "      <td>37647.000</td>\n",
              "      <td>nan</td>\n",
              "      <td>34.640</td>\n",
              "      <td>-111.984</td>\n",
              "    </tr>\n",
              "    <tr>\n",
              "      <th>50%</th>\n",
              "      <td>7312509327.000</td>\n",
              "      <td>13790.000</td>\n",
              "      <td>2013.000</td>\n",
              "      <td>86000.000</td>\n",
              "      <td>nan</td>\n",
              "      <td>39.160</td>\n",
              "      <td>-88.423</td>\n",
              "    </tr>\n",
              "    <tr>\n",
              "      <th>75%</th>\n",
              "      <td>7315245979.000</td>\n",
              "      <td>25995.000</td>\n",
              "      <td>2017.000</td>\n",
              "      <td>133846.000</td>\n",
              "      <td>nan</td>\n",
              "      <td>42.426</td>\n",
              "      <td>-80.830</td>\n",
              "    </tr>\n",
              "    <tr>\n",
              "      <th>max</th>\n",
              "      <td>7317098055.000</td>\n",
              "      <td>3736928711.000</td>\n",
              "      <td>2022.000</td>\n",
              "      <td>10000000.000</td>\n",
              "      <td>nan</td>\n",
              "      <td>64.948</td>\n",
              "      <td>94.163</td>\n",
              "    </tr>\n",
              "  </tbody>\n",
              "</table>\n",
              "</div>\n",
              "      <button class=\"colab-df-convert\" onclick=\"convertToInteractive('df-f36de63f-f5c6-4af9-b550-aa49b0ca170f')\"\n",
              "              title=\"Convert this dataframe to an interactive table.\"\n",
              "              style=\"display:none;\">\n",
              "        \n",
              "  <svg xmlns=\"http://www.w3.org/2000/svg\" height=\"24px\"viewBox=\"0 0 24 24\"\n",
              "       width=\"24px\">\n",
              "    <path d=\"M0 0h24v24H0V0z\" fill=\"none\"/>\n",
              "    <path d=\"M18.56 5.44l.94 2.06.94-2.06 2.06-.94-2.06-.94-.94-2.06-.94 2.06-2.06.94zm-11 1L8.5 8.5l.94-2.06 2.06-.94-2.06-.94L8.5 2.5l-.94 2.06-2.06.94zm10 10l.94 2.06.94-2.06 2.06-.94-2.06-.94-.94-2.06-.94 2.06-2.06.94z\"/><path d=\"M17.41 7.96l-1.37-1.37c-.4-.4-.92-.59-1.43-.59-.52 0-1.04.2-1.43.59L10.3 9.45l-7.72 7.72c-.78.78-.78 2.05 0 2.83L4 21.41c.39.39.9.59 1.41.59.51 0 1.02-.2 1.41-.59l7.78-7.78 2.81-2.81c.8-.78.8-2.07 0-2.86zM5.41 20L4 18.59l7.72-7.72 1.47 1.35L5.41 20z\"/>\n",
              "  </svg>\n",
              "      </button>\n",
              "      \n",
              "  <style>\n",
              "    .colab-df-container {\n",
              "      display:flex;\n",
              "      flex-wrap:wrap;\n",
              "      gap: 12px;\n",
              "    }\n",
              "\n",
              "    .colab-df-convert {\n",
              "      background-color: #E8F0FE;\n",
              "      border: none;\n",
              "      border-radius: 50%;\n",
              "      cursor: pointer;\n",
              "      display: none;\n",
              "      fill: #1967D2;\n",
              "      height: 32px;\n",
              "      padding: 0 0 0 0;\n",
              "      width: 32px;\n",
              "    }\n",
              "\n",
              "    .colab-df-convert:hover {\n",
              "      background-color: #E2EBFA;\n",
              "      box-shadow: 0px 1px 2px rgba(60, 64, 67, 0.3), 0px 1px 3px 1px rgba(60, 64, 67, 0.15);\n",
              "      fill: #174EA6;\n",
              "    }\n",
              "\n",
              "    [theme=dark] .colab-df-convert {\n",
              "      background-color: #3B4455;\n",
              "      fill: #D2E3FC;\n",
              "    }\n",
              "\n",
              "    [theme=dark] .colab-df-convert:hover {\n",
              "      background-color: #434B5C;\n",
              "      box-shadow: 0px 1px 3px 1px rgba(0, 0, 0, 0.15);\n",
              "      filter: drop-shadow(0px 1px 2px rgba(0, 0, 0, 0.3));\n",
              "      fill: #FFFFFF;\n",
              "    }\n",
              "  </style>\n",
              "\n",
              "      <script>\n",
              "        const buttonEl =\n",
              "          document.querySelector('#df-f36de63f-f5c6-4af9-b550-aa49b0ca170f button.colab-df-convert');\n",
              "        buttonEl.style.display =\n",
              "          google.colab.kernel.accessAllowed ? 'block' : 'none';\n",
              "\n",
              "        async function convertToInteractive(key) {\n",
              "          const element = document.querySelector('#df-f36de63f-f5c6-4af9-b550-aa49b0ca170f');\n",
              "          const dataTable =\n",
              "            await google.colab.kernel.invokeFunction('convertToInteractive',\n",
              "                                                     [key], {});\n",
              "          if (!dataTable) return;\n",
              "\n",
              "          const docLinkHtml = 'Like what you see? Visit the ' +\n",
              "            '<a target=\"_blank\" href=https://colab.research.google.com/notebooks/data_table.ipynb>data table notebook</a>'\n",
              "            + ' to learn more about interactive tables.';\n",
              "          element.innerHTML = '';\n",
              "          dataTable['output_type'] = 'display_data';\n",
              "          await google.colab.output.renderOutput(dataTable, element);\n",
              "          const docLink = document.createElement('div');\n",
              "          docLink.innerHTML = docLinkHtml;\n",
              "          element.appendChild(docLink);\n",
              "        }\n",
              "      </script>\n",
              "    </div>\n",
              "  </div>\n",
              "  "
            ]
          },
          "metadata": {},
          "execution_count": 5
        }
      ],
      "source": [
        "df.describe().applymap(lambda x: f\"{x:0.3f}\")"
      ]
    },
    {
      "cell_type": "code",
      "source": [
        "df.head(10)"
      ],
      "metadata": {
        "colab": {
          "base_uri": "https://localhost:8080/",
          "height": 652
        },
        "id": "y0ttYrlmqECW",
        "outputId": "0ef39fb1-ec56-4991-d980-de3ed633e9d9"
      },
      "execution_count": 6,
      "outputs": [
        {
          "output_type": "execute_result",
          "data": {
            "text/plain": [
              "           id                                                url  \\\n",
              "0  7218891961  https://fayar.craigslist.org/ctd/d/bentonville...   \n",
              "1  7220195662  https://hudsonvalley.craigslist.org/cto/d/poug...   \n",
              "2  7219485069  https://erie.craigslist.org/cto/d/erie-2012-su...   \n",
              "3  7217788283  https://elpaso.craigslist.org/ctd/d/el-paso-20...   \n",
              "4  7218423006  https://bellingham.craigslist.org/ctd/d/bellin...   \n",
              "5  7219973522  https://lacrosse.craigslist.org/cto/d/la-cross...   \n",
              "6  7316814884  https://auburn.craigslist.org/ctd/d/auburn-uni...   \n",
              "7  7315715960  https://auburn.craigslist.org/ctd/d/auburn-uni...   \n",
              "8  7315275942  https://auburn.craigslist.org/ctd/d/auburn-uni...   \n",
              "9  7312799035  https://auburn.craigslist.org/ctd/d/auburn-uni...   \n",
              "\n",
              "          region                           region_url  price    year  \\\n",
              "0   fayetteville         https://fayar.craigslist.org  11900     NaN   \n",
              "1  hudson valley  https://hudsonvalley.craigslist.org  15995     NaN   \n",
              "2           erie          https://erie.craigslist.org   3000     NaN   \n",
              "3        el paso        https://elpaso.craigslist.org      0     NaN   \n",
              "4     bellingham    https://bellingham.craigslist.org  11999     NaN   \n",
              "5      la crosse      https://lacrosse.craigslist.org    500     NaN   \n",
              "6         auburn        https://auburn.craigslist.org  33590  2014.0   \n",
              "7         auburn        https://auburn.craigslist.org  27990  2014.0   \n",
              "8         auburn        https://auburn.craigslist.org  30990  2019.0   \n",
              "9         auburn        https://auburn.craigslist.org  31990  2013.0   \n",
              "\n",
              "  manufacturer                       model condition    cylinders   fuel  \\\n",
              "0          NaN                         NaN       NaN          NaN    NaN   \n",
              "1          NaN                         NaN       NaN          NaN    NaN   \n",
              "2          NaN                         NaN       NaN          NaN    NaN   \n",
              "3          NaN                         NaN       NaN          NaN    NaN   \n",
              "4          NaN                         NaN       NaN          NaN    NaN   \n",
              "5          NaN                         NaN       NaN          NaN    NaN   \n",
              "6          gmc    sierra 1500 crew cab slt      good  8 cylinders    gas   \n",
              "7       toyota    tacoma access cab pickup      good          NaN  other   \n",
              "8         ford  ranger supercrew xl pickup      good          NaN  other   \n",
              "9       toyota    tundra double cab pickup      good  8 cylinders    gas   \n",
              "\n",
              "   odometer title_status transmission                VIN drive size    type  \\\n",
              "0       NaN          NaN          NaN                NaN   NaN  NaN     NaN   \n",
              "1       NaN          NaN          NaN                NaN   NaN  NaN     NaN   \n",
              "2       NaN          NaN          NaN                NaN   NaN  NaN     NaN   \n",
              "3       NaN          NaN          NaN                NaN   NaN  NaN     NaN   \n",
              "4       NaN          NaN          NaN                NaN   NaN  NaN     NaN   \n",
              "5       NaN          NaN          NaN                NaN   NaN  NaN     NaN   \n",
              "6   57923.0        clean        other  3GTP1VEC4EG551563   NaN  NaN  pickup   \n",
              "7   17805.0        clean        other  5TFTX4CN3EX042751   NaN  NaN  pickup   \n",
              "8    1834.0        clean        other  1FTER4EH3KLA31326   NaN  NaN  pickup   \n",
              "9   55068.0        clean        other  5TFUY5F19DX303623   4wd  NaN  pickup   \n",
              "\n",
              "  paint_color                                          image_url  \\\n",
              "0         NaN                                                NaN   \n",
              "1         NaN                                                NaN   \n",
              "2         NaN                                                NaN   \n",
              "3         NaN                                                NaN   \n",
              "4         NaN                                                NaN   \n",
              "5         NaN                                                NaN   \n",
              "6       white  https://images.craigslist.org/00R0R_lwWjXSEWNa...   \n",
              "7         red  https://images.craigslist.org/00X0X_1cMDo5xqSu...   \n",
              "8       black  https://images.craigslist.org/00202_4Fz2gXkV8p...   \n",
              "9         NaN  https://images.craigslist.org/00f0f_dQ1UfxDq7n...   \n",
              "\n",
              "                                         description  county state    lat  \\\n",
              "0                                                NaN     NaN    ar    NaN   \n",
              "1                                                NaN     NaN    ny    NaN   \n",
              "2                                                NaN     NaN    pa    NaN   \n",
              "3                                                NaN     NaN    tx    NaN   \n",
              "4                                                NaN     NaN    wa    NaN   \n",
              "5                                                NaN     NaN    wi    NaN   \n",
              "6  Carvana is the safer way to buy a car During t...     NaN    al  32.59   \n",
              "7  Carvana is the safer way to buy a car During t...     NaN    al  32.59   \n",
              "8  Carvana is the safer way to buy a car During t...     NaN    al  32.59   \n",
              "9  Carvana is the safer way to buy a car During t...     NaN    al  32.59   \n",
              "\n",
              "    long              posting_date  \n",
              "0    NaN                       NaN  \n",
              "1    NaN                       NaN  \n",
              "2    NaN                       NaN  \n",
              "3    NaN                       NaN  \n",
              "4    NaN                       NaN  \n",
              "5    NaN                       NaN  \n",
              "6 -85.48  2021-05-04T12:31:18-0500  \n",
              "7 -85.48  2021-05-02T08:44:35-0500  \n",
              "8 -85.48  2021-05-01T09:21:34-0500  \n",
              "9 -85.48  2021-04-26T10:01:19-0500  "
            ],
            "text/html": [
              "\n",
              "  <div id=\"df-20d87967-16c9-486b-ba0d-246e5938bce0\">\n",
              "    <div class=\"colab-df-container\">\n",
              "      <div>\n",
              "<style scoped>\n",
              "    .dataframe tbody tr th:only-of-type {\n",
              "        vertical-align: middle;\n",
              "    }\n",
              "\n",
              "    .dataframe tbody tr th {\n",
              "        vertical-align: top;\n",
              "    }\n",
              "\n",
              "    .dataframe thead th {\n",
              "        text-align: right;\n",
              "    }\n",
              "</style>\n",
              "<table border=\"1\" class=\"dataframe\">\n",
              "  <thead>\n",
              "    <tr style=\"text-align: right;\">\n",
              "      <th></th>\n",
              "      <th>id</th>\n",
              "      <th>url</th>\n",
              "      <th>region</th>\n",
              "      <th>region_url</th>\n",
              "      <th>price</th>\n",
              "      <th>year</th>\n",
              "      <th>manufacturer</th>\n",
              "      <th>model</th>\n",
              "      <th>condition</th>\n",
              "      <th>cylinders</th>\n",
              "      <th>fuel</th>\n",
              "      <th>odometer</th>\n",
              "      <th>title_status</th>\n",
              "      <th>transmission</th>\n",
              "      <th>VIN</th>\n",
              "      <th>drive</th>\n",
              "      <th>size</th>\n",
              "      <th>type</th>\n",
              "      <th>paint_color</th>\n",
              "      <th>image_url</th>\n",
              "      <th>description</th>\n",
              "      <th>county</th>\n",
              "      <th>state</th>\n",
              "      <th>lat</th>\n",
              "      <th>long</th>\n",
              "      <th>posting_date</th>\n",
              "    </tr>\n",
              "  </thead>\n",
              "  <tbody>\n",
              "    <tr>\n",
              "      <th>0</th>\n",
              "      <td>7218891961</td>\n",
              "      <td>https://fayar.craigslist.org/ctd/d/bentonville...</td>\n",
              "      <td>fayetteville</td>\n",
              "      <td>https://fayar.craigslist.org</td>\n",
              "      <td>11900</td>\n",
              "      <td>NaN</td>\n",
              "      <td>NaN</td>\n",
              "      <td>NaN</td>\n",
              "      <td>NaN</td>\n",
              "      <td>NaN</td>\n",
              "      <td>NaN</td>\n",
              "      <td>NaN</td>\n",
              "      <td>NaN</td>\n",
              "      <td>NaN</td>\n",
              "      <td>NaN</td>\n",
              "      <td>NaN</td>\n",
              "      <td>NaN</td>\n",
              "      <td>NaN</td>\n",
              "      <td>NaN</td>\n",
              "      <td>NaN</td>\n",
              "      <td>NaN</td>\n",
              "      <td>NaN</td>\n",
              "      <td>ar</td>\n",
              "      <td>NaN</td>\n",
              "      <td>NaN</td>\n",
              "      <td>NaN</td>\n",
              "    </tr>\n",
              "    <tr>\n",
              "      <th>1</th>\n",
              "      <td>7220195662</td>\n",
              "      <td>https://hudsonvalley.craigslist.org/cto/d/poug...</td>\n",
              "      <td>hudson valley</td>\n",
              "      <td>https://hudsonvalley.craigslist.org</td>\n",
              "      <td>15995</td>\n",
              "      <td>NaN</td>\n",
              "      <td>NaN</td>\n",
              "      <td>NaN</td>\n",
              "      <td>NaN</td>\n",
              "      <td>NaN</td>\n",
              "      <td>NaN</td>\n",
              "      <td>NaN</td>\n",
              "      <td>NaN</td>\n",
              "      <td>NaN</td>\n",
              "      <td>NaN</td>\n",
              "      <td>NaN</td>\n",
              "      <td>NaN</td>\n",
              "      <td>NaN</td>\n",
              "      <td>NaN</td>\n",
              "      <td>NaN</td>\n",
              "      <td>NaN</td>\n",
              "      <td>NaN</td>\n",
              "      <td>ny</td>\n",
              "      <td>NaN</td>\n",
              "      <td>NaN</td>\n",
              "      <td>NaN</td>\n",
              "    </tr>\n",
              "    <tr>\n",
              "      <th>2</th>\n",
              "      <td>7219485069</td>\n",
              "      <td>https://erie.craigslist.org/cto/d/erie-2012-su...</td>\n",
              "      <td>erie</td>\n",
              "      <td>https://erie.craigslist.org</td>\n",
              "      <td>3000</td>\n",
              "      <td>NaN</td>\n",
              "      <td>NaN</td>\n",
              "      <td>NaN</td>\n",
              "      <td>NaN</td>\n",
              "      <td>NaN</td>\n",
              "      <td>NaN</td>\n",
              "      <td>NaN</td>\n",
              "      <td>NaN</td>\n",
              "      <td>NaN</td>\n",
              "      <td>NaN</td>\n",
              "      <td>NaN</td>\n",
              "      <td>NaN</td>\n",
              "      <td>NaN</td>\n",
              "      <td>NaN</td>\n",
              "      <td>NaN</td>\n",
              "      <td>NaN</td>\n",
              "      <td>NaN</td>\n",
              "      <td>pa</td>\n",
              "      <td>NaN</td>\n",
              "      <td>NaN</td>\n",
              "      <td>NaN</td>\n",
              "    </tr>\n",
              "    <tr>\n",
              "      <th>3</th>\n",
              "      <td>7217788283</td>\n",
              "      <td>https://elpaso.craigslist.org/ctd/d/el-paso-20...</td>\n",
              "      <td>el paso</td>\n",
              "      <td>https://elpaso.craigslist.org</td>\n",
              "      <td>0</td>\n",
              "      <td>NaN</td>\n",
              "      <td>NaN</td>\n",
              "      <td>NaN</td>\n",
              "      <td>NaN</td>\n",
              "      <td>NaN</td>\n",
              "      <td>NaN</td>\n",
              "      <td>NaN</td>\n",
              "      <td>NaN</td>\n",
              "      <td>NaN</td>\n",
              "      <td>NaN</td>\n",
              "      <td>NaN</td>\n",
              "      <td>NaN</td>\n",
              "      <td>NaN</td>\n",
              "      <td>NaN</td>\n",
              "      <td>NaN</td>\n",
              "      <td>NaN</td>\n",
              "      <td>NaN</td>\n",
              "      <td>tx</td>\n",
              "      <td>NaN</td>\n",
              "      <td>NaN</td>\n",
              "      <td>NaN</td>\n",
              "    </tr>\n",
              "    <tr>\n",
              "      <th>4</th>\n",
              "      <td>7218423006</td>\n",
              "      <td>https://bellingham.craigslist.org/ctd/d/bellin...</td>\n",
              "      <td>bellingham</td>\n",
              "      <td>https://bellingham.craigslist.org</td>\n",
              "      <td>11999</td>\n",
              "      <td>NaN</td>\n",
              "      <td>NaN</td>\n",
              "      <td>NaN</td>\n",
              "      <td>NaN</td>\n",
              "      <td>NaN</td>\n",
              "      <td>NaN</td>\n",
              "      <td>NaN</td>\n",
              "      <td>NaN</td>\n",
              "      <td>NaN</td>\n",
              "      <td>NaN</td>\n",
              "      <td>NaN</td>\n",
              "      <td>NaN</td>\n",
              "      <td>NaN</td>\n",
              "      <td>NaN</td>\n",
              "      <td>NaN</td>\n",
              "      <td>NaN</td>\n",
              "      <td>NaN</td>\n",
              "      <td>wa</td>\n",
              "      <td>NaN</td>\n",
              "      <td>NaN</td>\n",
              "      <td>NaN</td>\n",
              "    </tr>\n",
              "    <tr>\n",
              "      <th>5</th>\n",
              "      <td>7219973522</td>\n",
              "      <td>https://lacrosse.craigslist.org/cto/d/la-cross...</td>\n",
              "      <td>la crosse</td>\n",
              "      <td>https://lacrosse.craigslist.org</td>\n",
              "      <td>500</td>\n",
              "      <td>NaN</td>\n",
              "      <td>NaN</td>\n",
              "      <td>NaN</td>\n",
              "      <td>NaN</td>\n",
              "      <td>NaN</td>\n",
              "      <td>NaN</td>\n",
              "      <td>NaN</td>\n",
              "      <td>NaN</td>\n",
              "      <td>NaN</td>\n",
              "      <td>NaN</td>\n",
              "      <td>NaN</td>\n",
              "      <td>NaN</td>\n",
              "      <td>NaN</td>\n",
              "      <td>NaN</td>\n",
              "      <td>NaN</td>\n",
              "      <td>NaN</td>\n",
              "      <td>NaN</td>\n",
              "      <td>wi</td>\n",
              "      <td>NaN</td>\n",
              "      <td>NaN</td>\n",
              "      <td>NaN</td>\n",
              "    </tr>\n",
              "    <tr>\n",
              "      <th>6</th>\n",
              "      <td>7316814884</td>\n",
              "      <td>https://auburn.craigslist.org/ctd/d/auburn-uni...</td>\n",
              "      <td>auburn</td>\n",
              "      <td>https://auburn.craigslist.org</td>\n",
              "      <td>33590</td>\n",
              "      <td>2014.0</td>\n",
              "      <td>gmc</td>\n",
              "      <td>sierra 1500 crew cab slt</td>\n",
              "      <td>good</td>\n",
              "      <td>8 cylinders</td>\n",
              "      <td>gas</td>\n",
              "      <td>57923.0</td>\n",
              "      <td>clean</td>\n",
              "      <td>other</td>\n",
              "      <td>3GTP1VEC4EG551563</td>\n",
              "      <td>NaN</td>\n",
              "      <td>NaN</td>\n",
              "      <td>pickup</td>\n",
              "      <td>white</td>\n",
              "      <td>https://images.craigslist.org/00R0R_lwWjXSEWNa...</td>\n",
              "      <td>Carvana is the safer way to buy a car During t...</td>\n",
              "      <td>NaN</td>\n",
              "      <td>al</td>\n",
              "      <td>32.59</td>\n",
              "      <td>-85.48</td>\n",
              "      <td>2021-05-04T12:31:18-0500</td>\n",
              "    </tr>\n",
              "    <tr>\n",
              "      <th>7</th>\n",
              "      <td>7315715960</td>\n",
              "      <td>https://auburn.craigslist.org/ctd/d/auburn-uni...</td>\n",
              "      <td>auburn</td>\n",
              "      <td>https://auburn.craigslist.org</td>\n",
              "      <td>27990</td>\n",
              "      <td>2014.0</td>\n",
              "      <td>toyota</td>\n",
              "      <td>tacoma access cab pickup</td>\n",
              "      <td>good</td>\n",
              "      <td>NaN</td>\n",
              "      <td>other</td>\n",
              "      <td>17805.0</td>\n",
              "      <td>clean</td>\n",
              "      <td>other</td>\n",
              "      <td>5TFTX4CN3EX042751</td>\n",
              "      <td>NaN</td>\n",
              "      <td>NaN</td>\n",
              "      <td>pickup</td>\n",
              "      <td>red</td>\n",
              "      <td>https://images.craigslist.org/00X0X_1cMDo5xqSu...</td>\n",
              "      <td>Carvana is the safer way to buy a car During t...</td>\n",
              "      <td>NaN</td>\n",
              "      <td>al</td>\n",
              "      <td>32.59</td>\n",
              "      <td>-85.48</td>\n",
              "      <td>2021-05-02T08:44:35-0500</td>\n",
              "    </tr>\n",
              "    <tr>\n",
              "      <th>8</th>\n",
              "      <td>7315275942</td>\n",
              "      <td>https://auburn.craigslist.org/ctd/d/auburn-uni...</td>\n",
              "      <td>auburn</td>\n",
              "      <td>https://auburn.craigslist.org</td>\n",
              "      <td>30990</td>\n",
              "      <td>2019.0</td>\n",
              "      <td>ford</td>\n",
              "      <td>ranger supercrew xl pickup</td>\n",
              "      <td>good</td>\n",
              "      <td>NaN</td>\n",
              "      <td>other</td>\n",
              "      <td>1834.0</td>\n",
              "      <td>clean</td>\n",
              "      <td>other</td>\n",
              "      <td>1FTER4EH3KLA31326</td>\n",
              "      <td>NaN</td>\n",
              "      <td>NaN</td>\n",
              "      <td>pickup</td>\n",
              "      <td>black</td>\n",
              "      <td>https://images.craigslist.org/00202_4Fz2gXkV8p...</td>\n",
              "      <td>Carvana is the safer way to buy a car During t...</td>\n",
              "      <td>NaN</td>\n",
              "      <td>al</td>\n",
              "      <td>32.59</td>\n",
              "      <td>-85.48</td>\n",
              "      <td>2021-05-01T09:21:34-0500</td>\n",
              "    </tr>\n",
              "    <tr>\n",
              "      <th>9</th>\n",
              "      <td>7312799035</td>\n",
              "      <td>https://auburn.craigslist.org/ctd/d/auburn-uni...</td>\n",
              "      <td>auburn</td>\n",
              "      <td>https://auburn.craigslist.org</td>\n",
              "      <td>31990</td>\n",
              "      <td>2013.0</td>\n",
              "      <td>toyota</td>\n",
              "      <td>tundra double cab pickup</td>\n",
              "      <td>good</td>\n",
              "      <td>8 cylinders</td>\n",
              "      <td>gas</td>\n",
              "      <td>55068.0</td>\n",
              "      <td>clean</td>\n",
              "      <td>other</td>\n",
              "      <td>5TFUY5F19DX303623</td>\n",
              "      <td>4wd</td>\n",
              "      <td>NaN</td>\n",
              "      <td>pickup</td>\n",
              "      <td>NaN</td>\n",
              "      <td>https://images.craigslist.org/00f0f_dQ1UfxDq7n...</td>\n",
              "      <td>Carvana is the safer way to buy a car During t...</td>\n",
              "      <td>NaN</td>\n",
              "      <td>al</td>\n",
              "      <td>32.59</td>\n",
              "      <td>-85.48</td>\n",
              "      <td>2021-04-26T10:01:19-0500</td>\n",
              "    </tr>\n",
              "  </tbody>\n",
              "</table>\n",
              "</div>\n",
              "      <button class=\"colab-df-convert\" onclick=\"convertToInteractive('df-20d87967-16c9-486b-ba0d-246e5938bce0')\"\n",
              "              title=\"Convert this dataframe to an interactive table.\"\n",
              "              style=\"display:none;\">\n",
              "        \n",
              "  <svg xmlns=\"http://www.w3.org/2000/svg\" height=\"24px\"viewBox=\"0 0 24 24\"\n",
              "       width=\"24px\">\n",
              "    <path d=\"M0 0h24v24H0V0z\" fill=\"none\"/>\n",
              "    <path d=\"M18.56 5.44l.94 2.06.94-2.06 2.06-.94-2.06-.94-.94-2.06-.94 2.06-2.06.94zm-11 1L8.5 8.5l.94-2.06 2.06-.94-2.06-.94L8.5 2.5l-.94 2.06-2.06.94zm10 10l.94 2.06.94-2.06 2.06-.94-2.06-.94-.94-2.06-.94 2.06-2.06.94z\"/><path d=\"M17.41 7.96l-1.37-1.37c-.4-.4-.92-.59-1.43-.59-.52 0-1.04.2-1.43.59L10.3 9.45l-7.72 7.72c-.78.78-.78 2.05 0 2.83L4 21.41c.39.39.9.59 1.41.59.51 0 1.02-.2 1.41-.59l7.78-7.78 2.81-2.81c.8-.78.8-2.07 0-2.86zM5.41 20L4 18.59l7.72-7.72 1.47 1.35L5.41 20z\"/>\n",
              "  </svg>\n",
              "      </button>\n",
              "      \n",
              "  <style>\n",
              "    .colab-df-container {\n",
              "      display:flex;\n",
              "      flex-wrap:wrap;\n",
              "      gap: 12px;\n",
              "    }\n",
              "\n",
              "    .colab-df-convert {\n",
              "      background-color: #E8F0FE;\n",
              "      border: none;\n",
              "      border-radius: 50%;\n",
              "      cursor: pointer;\n",
              "      display: none;\n",
              "      fill: #1967D2;\n",
              "      height: 32px;\n",
              "      padding: 0 0 0 0;\n",
              "      width: 32px;\n",
              "    }\n",
              "\n",
              "    .colab-df-convert:hover {\n",
              "      background-color: #E2EBFA;\n",
              "      box-shadow: 0px 1px 2px rgba(60, 64, 67, 0.3), 0px 1px 3px 1px rgba(60, 64, 67, 0.15);\n",
              "      fill: #174EA6;\n",
              "    }\n",
              "\n",
              "    [theme=dark] .colab-df-convert {\n",
              "      background-color: #3B4455;\n",
              "      fill: #D2E3FC;\n",
              "    }\n",
              "\n",
              "    [theme=dark] .colab-df-convert:hover {\n",
              "      background-color: #434B5C;\n",
              "      box-shadow: 0px 1px 3px 1px rgba(0, 0, 0, 0.15);\n",
              "      filter: drop-shadow(0px 1px 2px rgba(0, 0, 0, 0.3));\n",
              "      fill: #FFFFFF;\n",
              "    }\n",
              "  </style>\n",
              "\n",
              "      <script>\n",
              "        const buttonEl =\n",
              "          document.querySelector('#df-20d87967-16c9-486b-ba0d-246e5938bce0 button.colab-df-convert');\n",
              "        buttonEl.style.display =\n",
              "          google.colab.kernel.accessAllowed ? 'block' : 'none';\n",
              "\n",
              "        async function convertToInteractive(key) {\n",
              "          const element = document.querySelector('#df-20d87967-16c9-486b-ba0d-246e5938bce0');\n",
              "          const dataTable =\n",
              "            await google.colab.kernel.invokeFunction('convertToInteractive',\n",
              "                                                     [key], {});\n",
              "          if (!dataTable) return;\n",
              "\n",
              "          const docLinkHtml = 'Like what you see? Visit the ' +\n",
              "            '<a target=\"_blank\" href=https://colab.research.google.com/notebooks/data_table.ipynb>data table notebook</a>'\n",
              "            + ' to learn more about interactive tables.';\n",
              "          element.innerHTML = '';\n",
              "          dataTable['output_type'] = 'display_data';\n",
              "          await google.colab.output.renderOutput(dataTable, element);\n",
              "          const docLink = document.createElement('div');\n",
              "          docLink.innerHTML = docLinkHtml;\n",
              "          element.appendChild(docLink);\n",
              "        }\n",
              "      </script>\n",
              "    </div>\n",
              "  </div>\n",
              "  "
            ]
          },
          "metadata": {},
          "execution_count": 6
        }
      ]
    },
    {
      "cell_type": "markdown",
      "metadata": {
        "id": "wtdrfDvBeDi4"
      },
      "source": [
        "**DROP FEATURES**"
      ]
    },
    {
      "cell_type": "code",
      "execution_count": 7,
      "metadata": {
        "id": "fcdcwVw8d9yx"
      },
      "outputs": [],
      "source": [
        "df.drop(['id', 'url','region_url', 'VIN', 'image_url', 'description', 'county', 'state', 'lat', 'long', 'posting_date'],axis =1 , inplace = True)"
      ]
    },
    {
      "cell_type": "code",
      "execution_count": 8,
      "metadata": {
        "colab": {
          "base_uri": "https://localhost:8080/",
          "height": 300
        },
        "id": "6DdRcfeXlSEj",
        "outputId": "0397a360-dda2-4bbb-8549-1fadde5ef6ca"
      },
      "outputs": [
        {
          "output_type": "execute_result",
          "data": {
            "text/plain": [
              "                price       year      odometer\n",
              "count       42753.000  42628.000     42289.000\n",
              "mean       105148.023   2011.227     97208.376\n",
              "std      18073074.335      9.404    180850.953\n",
              "min             0.000   1900.000         0.000\n",
              "25%          5900.000   2008.000     37647.000\n",
              "50%         13790.000   2013.000     86000.000\n",
              "75%         25995.000   2017.000    133846.000\n",
              "max    3736928711.000   2022.000  10000000.000"
            ],
            "text/html": [
              "\n",
              "  <div id=\"df-cadcaa34-1a14-4a03-ac99-d6c09b50557c\">\n",
              "    <div class=\"colab-df-container\">\n",
              "      <div>\n",
              "<style scoped>\n",
              "    .dataframe tbody tr th:only-of-type {\n",
              "        vertical-align: middle;\n",
              "    }\n",
              "\n",
              "    .dataframe tbody tr th {\n",
              "        vertical-align: top;\n",
              "    }\n",
              "\n",
              "    .dataframe thead th {\n",
              "        text-align: right;\n",
              "    }\n",
              "</style>\n",
              "<table border=\"1\" class=\"dataframe\">\n",
              "  <thead>\n",
              "    <tr style=\"text-align: right;\">\n",
              "      <th></th>\n",
              "      <th>price</th>\n",
              "      <th>year</th>\n",
              "      <th>odometer</th>\n",
              "    </tr>\n",
              "  </thead>\n",
              "  <tbody>\n",
              "    <tr>\n",
              "      <th>count</th>\n",
              "      <td>42753.000</td>\n",
              "      <td>42628.000</td>\n",
              "      <td>42289.000</td>\n",
              "    </tr>\n",
              "    <tr>\n",
              "      <th>mean</th>\n",
              "      <td>105148.023</td>\n",
              "      <td>2011.227</td>\n",
              "      <td>97208.376</td>\n",
              "    </tr>\n",
              "    <tr>\n",
              "      <th>std</th>\n",
              "      <td>18073074.335</td>\n",
              "      <td>9.404</td>\n",
              "      <td>180850.953</td>\n",
              "    </tr>\n",
              "    <tr>\n",
              "      <th>min</th>\n",
              "      <td>0.000</td>\n",
              "      <td>1900.000</td>\n",
              "      <td>0.000</td>\n",
              "    </tr>\n",
              "    <tr>\n",
              "      <th>25%</th>\n",
              "      <td>5900.000</td>\n",
              "      <td>2008.000</td>\n",
              "      <td>37647.000</td>\n",
              "    </tr>\n",
              "    <tr>\n",
              "      <th>50%</th>\n",
              "      <td>13790.000</td>\n",
              "      <td>2013.000</td>\n",
              "      <td>86000.000</td>\n",
              "    </tr>\n",
              "    <tr>\n",
              "      <th>75%</th>\n",
              "      <td>25995.000</td>\n",
              "      <td>2017.000</td>\n",
              "      <td>133846.000</td>\n",
              "    </tr>\n",
              "    <tr>\n",
              "      <th>max</th>\n",
              "      <td>3736928711.000</td>\n",
              "      <td>2022.000</td>\n",
              "      <td>10000000.000</td>\n",
              "    </tr>\n",
              "  </tbody>\n",
              "</table>\n",
              "</div>\n",
              "      <button class=\"colab-df-convert\" onclick=\"convertToInteractive('df-cadcaa34-1a14-4a03-ac99-d6c09b50557c')\"\n",
              "              title=\"Convert this dataframe to an interactive table.\"\n",
              "              style=\"display:none;\">\n",
              "        \n",
              "  <svg xmlns=\"http://www.w3.org/2000/svg\" height=\"24px\"viewBox=\"0 0 24 24\"\n",
              "       width=\"24px\">\n",
              "    <path d=\"M0 0h24v24H0V0z\" fill=\"none\"/>\n",
              "    <path d=\"M18.56 5.44l.94 2.06.94-2.06 2.06-.94-2.06-.94-.94-2.06-.94 2.06-2.06.94zm-11 1L8.5 8.5l.94-2.06 2.06-.94-2.06-.94L8.5 2.5l-.94 2.06-2.06.94zm10 10l.94 2.06.94-2.06 2.06-.94-2.06-.94-.94-2.06-.94 2.06-2.06.94z\"/><path d=\"M17.41 7.96l-1.37-1.37c-.4-.4-.92-.59-1.43-.59-.52 0-1.04.2-1.43.59L10.3 9.45l-7.72 7.72c-.78.78-.78 2.05 0 2.83L4 21.41c.39.39.9.59 1.41.59.51 0 1.02-.2 1.41-.59l7.78-7.78 2.81-2.81c.8-.78.8-2.07 0-2.86zM5.41 20L4 18.59l7.72-7.72 1.47 1.35L5.41 20z\"/>\n",
              "  </svg>\n",
              "      </button>\n",
              "      \n",
              "  <style>\n",
              "    .colab-df-container {\n",
              "      display:flex;\n",
              "      flex-wrap:wrap;\n",
              "      gap: 12px;\n",
              "    }\n",
              "\n",
              "    .colab-df-convert {\n",
              "      background-color: #E8F0FE;\n",
              "      border: none;\n",
              "      border-radius: 50%;\n",
              "      cursor: pointer;\n",
              "      display: none;\n",
              "      fill: #1967D2;\n",
              "      height: 32px;\n",
              "      padding: 0 0 0 0;\n",
              "      width: 32px;\n",
              "    }\n",
              "\n",
              "    .colab-df-convert:hover {\n",
              "      background-color: #E2EBFA;\n",
              "      box-shadow: 0px 1px 2px rgba(60, 64, 67, 0.3), 0px 1px 3px 1px rgba(60, 64, 67, 0.15);\n",
              "      fill: #174EA6;\n",
              "    }\n",
              "\n",
              "    [theme=dark] .colab-df-convert {\n",
              "      background-color: #3B4455;\n",
              "      fill: #D2E3FC;\n",
              "    }\n",
              "\n",
              "    [theme=dark] .colab-df-convert:hover {\n",
              "      background-color: #434B5C;\n",
              "      box-shadow: 0px 1px 3px 1px rgba(0, 0, 0, 0.15);\n",
              "      filter: drop-shadow(0px 1px 2px rgba(0, 0, 0, 0.3));\n",
              "      fill: #FFFFFF;\n",
              "    }\n",
              "  </style>\n",
              "\n",
              "      <script>\n",
              "        const buttonEl =\n",
              "          document.querySelector('#df-cadcaa34-1a14-4a03-ac99-d6c09b50557c button.colab-df-convert');\n",
              "        buttonEl.style.display =\n",
              "          google.colab.kernel.accessAllowed ? 'block' : 'none';\n",
              "\n",
              "        async function convertToInteractive(key) {\n",
              "          const element = document.querySelector('#df-cadcaa34-1a14-4a03-ac99-d6c09b50557c');\n",
              "          const dataTable =\n",
              "            await google.colab.kernel.invokeFunction('convertToInteractive',\n",
              "                                                     [key], {});\n",
              "          if (!dataTable) return;\n",
              "\n",
              "          const docLinkHtml = 'Like what you see? Visit the ' +\n",
              "            '<a target=\"_blank\" href=https://colab.research.google.com/notebooks/data_table.ipynb>data table notebook</a>'\n",
              "            + ' to learn more about interactive tables.';\n",
              "          element.innerHTML = '';\n",
              "          dataTable['output_type'] = 'display_data';\n",
              "          await google.colab.output.renderOutput(dataTable, element);\n",
              "          const docLink = document.createElement('div');\n",
              "          docLink.innerHTML = docLinkHtml;\n",
              "          element.appendChild(docLink);\n",
              "        }\n",
              "      </script>\n",
              "    </div>\n",
              "  </div>\n",
              "  "
            ]
          },
          "metadata": {},
          "execution_count": 8
        }
      ],
      "source": [
        "df.describe().applymap(lambda x: f\"{x:0.3f}\")"
      ]
    },
    {
      "cell_type": "markdown",
      "metadata": {
        "id": "DngZagk3kd3x"
      },
      "source": [
        "**OUTLIER REMOVAL - price**"
      ]
    },
    {
      "cell_type": "code",
      "execution_count": 9,
      "metadata": {
        "colab": {
          "base_uri": "https://localhost:8080/"
        },
        "id": "twvYXNHGfMKv",
        "outputId": "c3f69aad-b885-47a9-d6e1-6a286ebb42d4"
      },
      "outputs": [
        {
          "output_type": "stream",
          "name": "stdout",
          "text": [
            "Price value for LOWER bound:  -24242.5\n",
            "Price value for UPPER bound:  56137.5\n"
          ]
        }
      ],
      "source": [
        "#### Lets compute the Interquantile range to calculate the boundaries\n",
        "IQR=df.price.quantile(0.75)-df.price.quantile(0.25)\n",
        "\n",
        "#### Extreme outliers\n",
        "lower_lim_price = df['price'].quantile(0.25) - ( IQR * 1.5 )\n",
        "upper_lim_price = df['price'].quantile(0.75) +  ( IQR * 1.5 )\n",
        "\n",
        "print(\"Price value for LOWER bound: \",lower_lim_price)\n",
        "print(\"Price value for UPPER bound: \",upper_lim_price)"
      ]
    },
    {
      "cell_type": "code",
      "execution_count": 10,
      "metadata": {
        "id": "5FLgt5xJkwxB"
      },
      "outputs": [],
      "source": [
        "# Taking 500 dollars as min and 57364 dollars max value for price\n",
        "\n",
        "df = df[(df.price >=  480) & (df.price <= 57364)]"
      ]
    },
    {
      "cell_type": "code",
      "execution_count": 11,
      "metadata": {
        "colab": {
          "base_uri": "https://localhost:8080/",
          "height": 308
        },
        "id": "PV-AAYMymAdu",
        "outputId": "43ede0e3-c7ba-4596-9898-cbb9e84129eb"
      },
      "outputs": [
        {
          "output_type": "execute_result",
          "data": {
            "text/plain": [
              "<matplotlib.axes._subplots.AxesSubplot at 0x7f83334b72d0>"
            ]
          },
          "metadata": {},
          "execution_count": 11
        },
        {
          "output_type": "display_data",
          "data": {
            "text/plain": [
              "<Figure size 576x288 with 1 Axes>"
            ],
            "image/png": "[encoded data removed]"
          },
          "metadata": {
            "needs_background": "light"
          }
        }
      ],
      "source": [
        "sns.distplot(df[(df.price >=  480) & (df.price <= 56137)].price)"
      ]
    },
    {
      "cell_type": "markdown",
      "metadata": {
        "id": "B0YinwAx0Yiw"
      },
      "source": [
        "**OUTLIER REMOVAL - year**"
      ]
    },
    {
      "cell_type": "code",
      "execution_count": 12,
      "metadata": {
        "colab": {
          "base_uri": "https://localhost:8080/"
        },
        "id": "63Fa0tGfzqA2",
        "outputId": "b7d6e573-d549-4d58-91e7-322eb0404bcc"
      },
      "outputs": [
        {
          "output_type": "stream",
          "name": "stdout",
          "text": [
            "Minimum Year value :  1994.5\n",
            "Maximum Year value:  2030.5\n"
          ]
        }
      ],
      "source": [
        "#### Lets compute the Interquantile range to calculate the boundaries\n",
        "IQR=df.year.quantile(0.75)-df.year.quantile(0.25)\n",
        "\n",
        "#### Extreme outliers\n",
        "lower_lim_year = df['year'].quantile(0.25) - ( IQR * 1.5 )\n",
        "upper_lim_year = df['year'].quantile(0.75) +  ( IQR * 1.5 )\n",
        "\n",
        "print(\"Minimum Year value : \",lower_lim_year)\n",
        "print(\"Maximum Year value: \",upper_lim_year)"
      ]
    },
    {
      "cell_type": "code",
      "execution_count": 13,
      "metadata": {
        "id": "D2_v7cje0HtN"
      },
      "outputs": [],
      "source": [
        "# Taking year greater than 1994\n",
        "\n",
        "df = df[(df['year'] >=  1994)]"
      ]
    },
    {
      "cell_type": "code",
      "execution_count": 14,
      "metadata": {
        "colab": {
          "base_uri": "https://localhost:8080/",
          "height": 297
        },
        "id": "CTesJh5x30Ld",
        "outputId": "8ad8feca-afbe-4a14-e6ff-6de15625ee15"
      },
      "outputs": [
        {
          "output_type": "execute_result",
          "data": {
            "text/plain": [
              "<matplotlib.axes._subplots.AxesSubplot at 0x7f832d02f350>"
            ]
          },
          "metadata": {},
          "execution_count": 14
        },
        {
          "output_type": "display_data",
          "data": {
            "text/plain": [
              "<Figure size 576x288 with 1 Axes>"
            ],
            "image/png": "[encoded data removed]"
          },
          "metadata": {
            "needs_background": "light"
          }
        }
      ],
      "source": [
        "sns.distplot(df.year)"
      ]
    },
    {
      "cell_type": "code",
      "execution_count": 15,
      "metadata": {
        "colab": {
          "base_uri": "https://localhost:8080/",
          "height": 300
        },
        "id": "wdZFEycJ7tgn",
        "outputId": "6b989ea3-8c7a-4c41-c978-1dddf6406934"
      },
      "outputs": [
        {
          "output_type": "execute_result",
          "data": {
            "text/plain": [
              "           price       year     odometer\n",
              "count  36196.000  36196.000    35990.000\n",
              "mean   18183.712   2012.253    97654.239\n",
              "std    12580.364      5.626   112157.004\n",
              "min      484.000   1994.000        0.000\n",
              "25%     7700.000   2008.000    40166.000\n",
              "50%    15500.000   2013.000    90892.500\n",
              "75%    26990.000   2017.000   138000.000\n",
              "max    57000.000   2022.000  9999999.000"
            ],
            "text/html": [
              "\n",
              "  <div id=\"df-fa7a666e-c18b-4b35-8672-894b2fbed4a7\">\n",
              "    <div class=\"colab-df-container\">\n",
              "      <div>\n",
              "<style scoped>\n",
              "    .dataframe tbody tr th:only-of-type {\n",
              "        vertical-align: middle;\n",
              "    }\n",
              "\n",
              "    .dataframe tbody tr th {\n",
              "        vertical-align: top;\n",
              "    }\n",
              "\n",
              "    .dataframe thead th {\n",
              "        text-align: right;\n",
              "    }\n",
              "</style>\n",
              "<table border=\"1\" class=\"dataframe\">\n",
              "  <thead>\n",
              "    <tr style=\"text-align: right;\">\n",
              "      <th></th>\n",
              "      <th>price</th>\n",
              "      <th>year</th>\n",
              "      <th>odometer</th>\n",
              "    </tr>\n",
              "  </thead>\n",
              "  <tbody>\n",
              "    <tr>\n",
              "      <th>count</th>\n",
              "      <td>36196.000</td>\n",
              "      <td>36196.000</td>\n",
              "      <td>35990.000</td>\n",
              "    </tr>\n",
              "    <tr>\n",
              "      <th>mean</th>\n",
              "      <td>18183.712</td>\n",
              "      <td>2012.253</td>\n",
              "      <td>97654.239</td>\n",
              "    </tr>\n",
              "    <tr>\n",
              "      <th>std</th>\n",
              "      <td>12580.364</td>\n",
              "      <td>5.626</td>\n",
              "      <td>112157.004</td>\n",
              "    </tr>\n",
              "    <tr>\n",
              "      <th>min</th>\n",
              "      <td>484.000</td>\n",
              "      <td>1994.000</td>\n",
              "      <td>0.000</td>\n",
              "    </tr>\n",
              "    <tr>\n",
              "      <th>25%</th>\n",
              "      <td>7700.000</td>\n",
              "      <td>2008.000</td>\n",
              "      <td>40166.000</td>\n",
              "    </tr>\n",
              "    <tr>\n",
              "      <th>50%</th>\n",
              "      <td>15500.000</td>\n",
              "      <td>2013.000</td>\n",
              "      <td>90892.500</td>\n",
              "    </tr>\n",
              "    <tr>\n",
              "      <th>75%</th>\n",
              "      <td>26990.000</td>\n",
              "      <td>2017.000</td>\n",
              "      <td>138000.000</td>\n",
              "    </tr>\n",
              "    <tr>\n",
              "      <th>max</th>\n",
              "      <td>57000.000</td>\n",
              "      <td>2022.000</td>\n",
              "      <td>9999999.000</td>\n",
              "    </tr>\n",
              "  </tbody>\n",
              "</table>\n",
              "</div>\n",
              "      <button class=\"colab-df-convert\" onclick=\"convertToInteractive('df-fa7a666e-c18b-4b35-8672-894b2fbed4a7')\"\n",
              "              title=\"Convert this dataframe to an interactive table.\"\n",
              "              style=\"display:none;\">\n",
              "        \n",
              "  <svg xmlns=\"http://www.w3.org/2000/svg\" height=\"24px\"viewBox=\"0 0 24 24\"\n",
              "       width=\"24px\">\n",
              "    <path d=\"M0 0h24v24H0V0z\" fill=\"none\"/>\n",
              "    <path d=\"M18.56 5.44l.94 2.06.94-2.06 2.06-.94-2.06-.94-.94-2.06-.94 2.06-2.06.94zm-11 1L8.5 8.5l.94-2.06 2.06-.94-2.06-.94L8.5 2.5l-.94 2.06-2.06.94zm10 10l.94 2.06.94-2.06 2.06-.94-2.06-.94-.94-2.06-.94 2.06-2.06.94z\"/><path d=\"M17.41 7.96l-1.37-1.37c-.4-.4-.92-.59-1.43-.59-.52 0-1.04.2-1.43.59L10.3 9.45l-7.72 7.72c-.78.78-.78 2.05 0 2.83L4 21.41c.39.39.9.59 1.41.59.51 0 1.02-.2 1.41-.59l7.78-7.78 2.81-2.81c.8-.78.8-2.07 0-2.86zM5.41 20L4 18.59l7.72-7.72 1.47 1.35L5.41 20z\"/>\n",
              "  </svg>\n",
              "      </button>\n",
              "      \n",
              "  <style>\n",
              "    .colab-df-container {\n",
              "      display:flex;\n",
              "      flex-wrap:wrap;\n",
              "      gap: 12px;\n",
              "    }\n",
              "\n",
              "    .colab-df-convert {\n",
              "      background-color: #E8F0FE;\n",
              "      border: none;\n",
              "      border-radius: 50%;\n",
              "      cursor: pointer;\n",
              "      display: none;\n",
              "      fill: #1967D2;\n",
              "      height: 32px;\n",
              "      padding: 0 0 0 0;\n",
              "      width: 32px;\n",
              "    }\n",
              "\n",
              "    .colab-df-convert:hover {\n",
              "      background-color: #E2EBFA;\n",
              "      box-shadow: 0px 1px 2px rgba(60, 64, 67, 0.3), 0px 1px 3px 1px rgba(60, 64, 67, 0.15);\n",
              "      fill: #174EA6;\n",
              "    }\n",
              "\n",
              "    [theme=dark] .colab-df-convert {\n",
              "      background-color: #3B4455;\n",
              "      fill: #D2E3FC;\n",
              "    }\n",
              "\n",
              "    [theme=dark] .colab-df-convert:hover {\n",
              "      background-color: #434B5C;\n",
              "      box-shadow: 0px 1px 3px 1px rgba(0, 0, 0, 0.15);\n",
              "      filter: drop-shadow(0px 1px 2px rgba(0, 0, 0, 0.3));\n",
              "      fill: #FFFFFF;\n",
              "    }\n",
              "  </style>\n",
              "\n",
              "      <script>\n",
              "        const buttonEl =\n",
              "          document.querySelector('#df-fa7a666e-c18b-4b35-8672-894b2fbed4a7 button.colab-df-convert');\n",
              "        buttonEl.style.display =\n",
              "          google.colab.kernel.accessAllowed ? 'block' : 'none';\n",
              "\n",
              "        async function convertToInteractive(key) {\n",
              "          const element = document.querySelector('#df-fa7a666e-c18b-4b35-8672-894b2fbed4a7');\n",
              "          const dataTable =\n",
              "            await google.colab.kernel.invokeFunction('convertToInteractive',\n",
              "                                                     [key], {});\n",
              "          if (!dataTable) return;\n",
              "\n",
              "          const docLinkHtml = 'Like what you see? Visit the ' +\n",
              "            '<a target=\"_blank\" href=https://colab.research.google.com/notebooks/data_table.ipynb>data table notebook</a>'\n",
              "            + ' to learn more about interactive tables.';\n",
              "          element.innerHTML = '';\n",
              "          dataTable['output_type'] = 'display_data';\n",
              "          await google.colab.output.renderOutput(dataTable, element);\n",
              "          const docLink = document.createElement('div');\n",
              "          docLink.innerHTML = docLinkHtml;\n",
              "          element.appendChild(docLink);\n",
              "        }\n",
              "      </script>\n",
              "    </div>\n",
              "  </div>\n",
              "  "
            ]
          },
          "metadata": {},
          "execution_count": 15
        }
      ],
      "source": [
        "df.describe().applymap(lambda x: f\"{x:0.3f}\")"
      ]
    },
    {
      "cell_type": "markdown",
      "metadata": {
        "id": "daJ8JVQe4qP4"
      },
      "source": [
        "**OUTLIER REMOVAL - odometer**"
      ]
    },
    {
      "cell_type": "code",
      "execution_count": 16,
      "metadata": {
        "colab": {
          "base_uri": "https://localhost:8080/"
        },
        "id": "-RuZsHUj4it0",
        "outputId": "7cc7f025-8893-4c79-94ff-ef5ce299c6a4"
      },
      "outputs": [
        {
          "output_type": "stream",
          "name": "stdout",
          "text": [
            "Min odometer value :  -106585.0\n",
            "Max odometer value:  284751.0\n"
          ]
        }
      ],
      "source": [
        "#### Lets compute the Interquantile range to calculate the boundaries\n",
        "IQR = df.odometer.quantile(0.75) - df.odometer.quantile(0.25)\n",
        "\n",
        "#### Extreme outliers\n",
        "lower_lim_odometer = df['odometer'].quantile(0.25) - ( IQR * 1.5 )\n",
        "upper_lim_odometer = df['odometer'].quantile(0.75) + ( IQR * 1.5 )\n",
        "\n",
        "print(\"Min odometer value : \",lower_lim_odometer)\n",
        "print(\"Max odometer value: \",upper_lim_odometer)"
      ]
    },
    {
      "cell_type": "code",
      "execution_count": 17,
      "metadata": {
        "id": "RtJl2zEW5_ZN"
      },
      "outputs": [],
      "source": [
        "# Set 200 miles as the lower limit and 284751 miles Upper limit \n",
        "df = df[(df.odometer >=  200) & (df.odometer <= 284751)]"
      ]
    },
    {
      "cell_type": "code",
      "execution_count": 18,
      "metadata": {
        "colab": {
          "base_uri": "https://localhost:8080/",
          "height": 308
        },
        "id": "IhQFZ2xs-p6e",
        "outputId": "4d116ca9-f71c-4155-dec9-5cf34eeb4f5c"
      },
      "outputs": [
        {
          "output_type": "execute_result",
          "data": {
            "text/plain": [
              "<matplotlib.axes._subplots.AxesSubplot at 0x7f832ca34f90>"
            ]
          },
          "metadata": {},
          "execution_count": 18
        },
        {
          "output_type": "display_data",
          "data": {
            "text/plain": [
              "<Figure size 576x288 with 1 Axes>"
            ],
            "image/png": "[encoded data removed]"
          },
          "metadata": {
            "needs_background": "light"
          }
        }
      ],
      "source": [
        "sns.distplot(df.odometer)"
      ]
    },
    {
      "cell_type": "code",
      "execution_count": 19,
      "metadata": {
        "colab": {
          "base_uri": "https://localhost:8080/",
          "height": 521
        },
        "id": "bC7oOaNa2lAb",
        "outputId": "7aa7befa-c76c-4982-9439-6e44ba0446ce"
      },
      "outputs": [
        {
          "output_type": "execute_result",
          "data": {
            "text/plain": [
              "Text(0.5, 1.0, 'Graph for NULL data ')"
            ]
          },
          "metadata": {},
          "execution_count": 19
        },
        {
          "output_type": "display_data",
          "data": {
            "text/plain": [
              "<Figure size 1080x504 with 2 Axes>"
            ],
            "image/png": "[encoded data removed]"
          },
          "metadata": {
            "needs_background": "light"
          }
        }
      ],
      "source": [
        "import matplotlib.pyplot as plt\n",
        "import seaborn as sns\n",
        "\n",
        "plt.figure(figsize=(15,7))\n",
        " \n",
        "plt.subplot(1,2,1) \n",
        "# Removing the missing percentages greater than zero.\n",
        "missing_percentages =df.isna().sum().sort_values(ascending=False)/len(df) \n",
        "# Plot a graph to check missing percentages \n",
        "missing_percentages[missing_percentages!=0].plot(kind='barh')\n",
        "plt.title(\"Graph for NULL data in percentage \")\n",
        "plt.xlabel(\"% of missing values\")\n",
        "plt.ylabel(\"Features\")\n",
        "\n",
        "plt.subplot(1,2,2)\n",
        "# creating a graph to check null values\n",
        "sns.heatmap(df.isnull(),yticklabels=False,cbar=False,cmap='viridis')\n",
        "plt.title(\"Graph for NULL data \")"
      ]
    },
    {
      "cell_type": "code",
      "execution_count": 20,
      "metadata": {
        "colab": {
          "base_uri": "https://localhost:8080/",
          "height": 520
        },
        "id": "rhyv0_F6I0bB",
        "outputId": "2a0af41e-419d-46a6-b6dd-382fbe35bf1a"
      },
      "outputs": [
        {
          "output_type": "execute_result",
          "data": {
            "text/plain": [
              "              Null_Values  percent_missing\n",
              "size                25305        71.895332\n",
              "cylinders           14367        40.818820\n",
              "condition           13276        37.719124\n",
              "drive               10559        29.999716\n",
              "paint_color         10069        28.607552\n",
              "type                 7320        20.797227\n",
              "manufacturer         1093         3.105378\n",
              "title_status          566         1.608092\n",
              "model                 270         0.767111\n",
              "fuel                  177         0.502884\n",
              "transmission          145         0.411967\n",
              "region                  0         0.000000\n",
              "price                   0         0.000000\n",
              "year                    0         0.000000\n",
              "odometer                0         0.000000"
            ],
            "text/html": [
              "\n",
              "  <div id=\"df-321fa14b-3cd2-4c33-a57e-016b1103b741\">\n",
              "    <div class=\"colab-df-container\">\n",
              "      <div>\n",
              "<style scoped>\n",
              "    .dataframe tbody tr th:only-of-type {\n",
              "        vertical-align: middle;\n",
              "    }\n",
              "\n",
              "    .dataframe tbody tr th {\n",
              "        vertical-align: top;\n",
              "    }\n",
              "\n",
              "    .dataframe thead th {\n",
              "        text-align: right;\n",
              "    }\n",
              "</style>\n",
              "<table border=\"1\" class=\"dataframe\">\n",
              "  <thead>\n",
              "    <tr style=\"text-align: right;\">\n",
              "      <th></th>\n",
              "      <th>Null_Values</th>\n",
              "      <th>percent_missing</th>\n",
              "    </tr>\n",
              "  </thead>\n",
              "  <tbody>\n",
              "    <tr>\n",
              "      <th>size</th>\n",
              "      <td>25305</td>\n",
              "      <td>71.895332</td>\n",
              "    </tr>\n",
              "    <tr>\n",
              "      <th>cylinders</th>\n",
              "      <td>14367</td>\n",
              "      <td>40.818820</td>\n",
              "    </tr>\n",
              "    <tr>\n",
              "      <th>condition</th>\n",
              "      <td>13276</td>\n",
              "      <td>37.719124</td>\n",
              "    </tr>\n",
              "    <tr>\n",
              "      <th>drive</th>\n",
              "      <td>10559</td>\n",
              "      <td>29.999716</td>\n",
              "    </tr>\n",
              "    <tr>\n",
              "      <th>paint_color</th>\n",
              "      <td>10069</td>\n",
              "      <td>28.607552</td>\n",
              "    </tr>\n",
              "    <tr>\n",
              "      <th>type</th>\n",
              "      <td>7320</td>\n",
              "      <td>20.797227</td>\n",
              "    </tr>\n",
              "    <tr>\n",
              "      <th>manufacturer</th>\n",
              "      <td>1093</td>\n",
              "      <td>3.105378</td>\n",
              "    </tr>\n",
              "    <tr>\n",
              "      <th>title_status</th>\n",
              "      <td>566</td>\n",
              "      <td>1.608092</td>\n",
              "    </tr>\n",
              "    <tr>\n",
              "      <th>model</th>\n",
              "      <td>270</td>\n",
              "      <td>0.767111</td>\n",
              "    </tr>\n",
              "    <tr>\n",
              "      <th>fuel</th>\n",
              "      <td>177</td>\n",
              "      <td>0.502884</td>\n",
              "    </tr>\n",
              "    <tr>\n",
              "      <th>transmission</th>\n",
              "      <td>145</td>\n",
              "      <td>0.411967</td>\n",
              "    </tr>\n",
              "    <tr>\n",
              "      <th>region</th>\n",
              "      <td>0</td>\n",
              "      <td>0.000000</td>\n",
              "    </tr>\n",
              "    <tr>\n",
              "      <th>price</th>\n",
              "      <td>0</td>\n",
              "      <td>0.000000</td>\n",
              "    </tr>\n",
              "    <tr>\n",
              "      <th>year</th>\n",
              "      <td>0</td>\n",
              "      <td>0.000000</td>\n",
              "    </tr>\n",
              "    <tr>\n",
              "      <th>odometer</th>\n",
              "      <td>0</td>\n",
              "      <td>0.000000</td>\n",
              "    </tr>\n",
              "  </tbody>\n",
              "</table>\n",
              "</div>\n",
              "      <button class=\"colab-df-convert\" onclick=\"convertToInteractive('df-321fa14b-3cd2-4c33-a57e-016b1103b741')\"\n",
              "              title=\"Convert this dataframe to an interactive table.\"\n",
              "              style=\"display:none;\">\n",
              "        \n",
              "  <svg xmlns=\"http://www.w3.org/2000/svg\" height=\"24px\"viewBox=\"0 0 24 24\"\n",
              "       width=\"24px\">\n",
              "    <path d=\"M0 0h24v24H0V0z\" fill=\"none\"/>\n",
              "    <path d=\"M18.56 5.44l.94 2.06.94-2.06 2.06-.94-2.06-.94-.94-2.06-.94 2.06-2.06.94zm-11 1L8.5 8.5l.94-2.06 2.06-.94-2.06-.94L8.5 2.5l-.94 2.06-2.06.94zm10 10l.94 2.06.94-2.06 2.06-.94-2.06-.94-.94-2.06-.94 2.06-2.06.94z\"/><path d=\"M17.41 7.96l-1.37-1.37c-.4-.4-.92-.59-1.43-.59-.52 0-1.04.2-1.43.59L10.3 9.45l-7.72 7.72c-.78.78-.78 2.05 0 2.83L4 21.41c.39.39.9.59 1.41.59.51 0 1.02-.2 1.41-.59l7.78-7.78 2.81-2.81c.8-.78.8-2.07 0-2.86zM5.41 20L4 18.59l7.72-7.72 1.47 1.35L5.41 20z\"/>\n",
              "  </svg>\n",
              "      </button>\n",
              "      \n",
              "  <style>\n",
              "    .colab-df-container {\n",
              "      display:flex;\n",
              "      flex-wrap:wrap;\n",
              "      gap: 12px;\n",
              "    }\n",
              "\n",
              "    .colab-df-convert {\n",
              "      background-color: #E8F0FE;\n",
              "      border: none;\n",
              "      border-radius: 50%;\n",
              "      cursor: pointer;\n",
              "      display: none;\n",
              "      fill: #1967D2;\n",
              "      height: 32px;\n",
              "      padding: 0 0 0 0;\n",
              "      width: 32px;\n",
              "    }\n",
              "\n",
              "    .colab-df-convert:hover {\n",
              "      background-color: #E2EBFA;\n",
              "      box-shadow: 0px 1px 2px rgba(60, 64, 67, 0.3), 0px 1px 3px 1px rgba(60, 64, 67, 0.15);\n",
              "      fill: #174EA6;\n",
              "    }\n",
              "\n",
              "    [theme=dark] .colab-df-convert {\n",
              "      background-color: #3B4455;\n",
              "      fill: #D2E3FC;\n",
              "    }\n",
              "\n",
              "    [theme=dark] .colab-df-convert:hover {\n",
              "      background-color: #434B5C;\n",
              "      box-shadow: 0px 1px 3px 1px rgba(0, 0, 0, 0.15);\n",
              "      filter: drop-shadow(0px 1px 2px rgba(0, 0, 0, 0.3));\n",
              "      fill: #FFFFFF;\n",
              "    }\n",
              "  </style>\n",
              "\n",
              "      <script>\n",
              "        const buttonEl =\n",
              "          document.querySelector('#df-321fa14b-3cd2-4c33-a57e-016b1103b741 button.colab-df-convert');\n",
              "        buttonEl.style.display =\n",
              "          google.colab.kernel.accessAllowed ? 'block' : 'none';\n",
              "\n",
              "        async function convertToInteractive(key) {\n",
              "          const element = document.querySelector('#df-321fa14b-3cd2-4c33-a57e-016b1103b741');\n",
              "          const dataTable =\n",
              "            await google.colab.kernel.invokeFunction('convertToInteractive',\n",
              "                                                     [key], {});\n",
              "          if (!dataTable) return;\n",
              "\n",
              "          const docLinkHtml = 'Like what you see? Visit the ' +\n",
              "            '<a target=\"_blank\" href=https://colab.research.google.com/notebooks/data_table.ipynb>data table notebook</a>'\n",
              "            + ' to learn more about interactive tables.';\n",
              "          element.innerHTML = '';\n",
              "          dataTable['output_type'] = 'display_data';\n",
              "          await google.colab.output.renderOutput(dataTable, element);\n",
              "          const docLink = document.createElement('div');\n",
              "          docLink.innerHTML = docLinkHtml;\n",
              "          element.appendChild(docLink);\n",
              "        }\n",
              "      </script>\n",
              "    </div>\n",
              "  </div>\n",
              "  "
            ]
          },
          "metadata": {},
          "execution_count": 20
        }
      ],
      "source": [
        "Null_Values = df.isna().sum()\n",
        "percent_missing = df.isnull().sum() * 100 / len(df)\n",
        "missing_value_df = pd.DataFrame({'Null_Values' : Null_Values,'percent_missing': percent_missing})\n",
        "missing_value_df.sort_values(['percent_missing'],ascending=False)"
      ]
    },
    {
      "cell_type": "markdown",
      "metadata": {
        "id": "pb-4PYizm7CP"
      },
      "source": [
        "### **Handling Missing and Null Values** \n"
      ]
    },
    {
      "cell_type": "markdown",
      "metadata": {
        "id": "gEeV3K-1nM47"
      },
      "source": [
        "**Transmission**"
      ]
    },
    {
      "cell_type": "code",
      "execution_count": 21,
      "metadata": {
        "colab": {
          "base_uri": "https://localhost:8080/"
        },
        "id": "LwdgvYf5m6fL",
        "outputId": "de69cf83-303c-48b7-dac1-fb5b38b9ef66"
      },
      "outputs": [
        {
          "output_type": "stream",
          "name": "stdout",
          "text": [
            "Number of null values before handling in transmission : 145\n"
          ]
        }
      ],
      "source": [
        "print(\"Number of null values before handling in transmission :\" ,df['transmission'].isnull().sum())"
      ]
    },
    {
      "cell_type": "code",
      "execution_count": 22,
      "metadata": {
        "id": "fiF7AoUdJ0ww"
      },
      "outputs": [],
      "source": [
        "# Replacing null values in transmission column\n",
        "\n",
        "df['transmission'] = df['transmission'].fillna(df.transmission.mode()[0])"
      ]
    },
    {
      "cell_type": "code",
      "execution_count": 23,
      "metadata": {
        "colab": {
          "base_uri": "https://localhost:8080/"
        },
        "id": "xhtwPfXvnoth",
        "outputId": "90cc8b35-aee2-44e1-e9a2-724082bc8b77"
      },
      "outputs": [
        {
          "output_type": "stream",
          "name": "stdout",
          "text": [
            "Number of null values After handling in transmission : 0\n"
          ]
        }
      ],
      "source": [
        "print(\"Number of null values After handling in transmission :\" ,df['transmission'].isnull().sum())"
      ]
    },
    {
      "cell_type": "markdown",
      "metadata": {
        "id": "HY8jsE-OphFJ"
      },
      "source": [
        "**Fuel**"
      ]
    },
    {
      "cell_type": "code",
      "execution_count": 24,
      "metadata": {
        "colab": {
          "base_uri": "https://localhost:8080/"
        },
        "id": "NvQOCDugnxqX",
        "outputId": "6f137120-130d-4969-a7a7-0fcf6896af30"
      },
      "outputs": [
        {
          "output_type": "stream",
          "name": "stdout",
          "text": [
            "Number of null values before handling in fuel : 177\n"
          ]
        }
      ],
      "source": [
        "print(\"Number of null values before handling in fuel :\" ,df['fuel'].isnull().sum())"
      ]
    },
    {
      "cell_type": "code",
      "execution_count": 25,
      "metadata": {
        "id": "GL7m2_6upr0p"
      },
      "outputs": [],
      "source": [
        "# Replacing null values in fuel column\n",
        "\n",
        "df['fuel'] = df['fuel'].fillna(df.fuel.mode()[0])"
      ]
    },
    {
      "cell_type": "code",
      "execution_count": 26,
      "metadata": {
        "colab": {
          "base_uri": "https://localhost:8080/"
        },
        "id": "_sSDWMrIpyif",
        "outputId": "9423baa0-83d4-413d-8f5c-d1d48b2acb71"
      },
      "outputs": [
        {
          "output_type": "stream",
          "name": "stdout",
          "text": [
            "Number of null values after handling in fuel : 0\n"
          ]
        }
      ],
      "source": [
        "print(\"Number of null values after handling in fuel :\" ,df['fuel'].isnull().sum())"
      ]
    },
    {
      "cell_type": "markdown",
      "metadata": {
        "id": "hxAmK_Xhqp6h"
      },
      "source": [
        "**Model**"
      ]
    },
    {
      "cell_type": "code",
      "execution_count": 27,
      "metadata": {
        "colab": {
          "base_uri": "https://localhost:8080/"
        },
        "id": "4165A7KZqqND",
        "outputId": "1e41d7dd-4454-46e9-b1f7-c5af369793f6"
      },
      "outputs": [
        {
          "output_type": "stream",
          "name": "stdout",
          "text": [
            "Number of null values before handling in model : 270\n"
          ]
        }
      ],
      "source": [
        "print(\"Number of null values before handling in model :\" ,df['model'].isnull().sum())"
      ]
    },
    {
      "cell_type": "code",
      "execution_count": 28,
      "metadata": {
        "id": "ohsk1eXWp1fU"
      },
      "outputs": [],
      "source": [
        "# Replacing null values in model column\n",
        "\n",
        "df['model'] = df['model'].fillna(df.title_status.mode()[0])"
      ]
    },
    {
      "cell_type": "code",
      "execution_count": 29,
      "metadata": {
        "colab": {
          "base_uri": "https://localhost:8080/"
        },
        "id": "j13rou-zq7uo",
        "outputId": "359be79b-ed24-485c-cc69-efb932117fed"
      },
      "outputs": [
        {
          "output_type": "stream",
          "name": "stdout",
          "text": [
            "Number of null values after handling in model : 0\n"
          ]
        }
      ],
      "source": [
        "print(\"Number of null values after handling in model :\" ,df['model'].isnull().sum())"
      ]
    },
    {
      "cell_type": "markdown",
      "metadata": {
        "id": "w4u8OKWKrlO4"
      },
      "source": [
        "**Title_status**"
      ]
    },
    {
      "cell_type": "code",
      "execution_count": 30,
      "metadata": {
        "colab": {
          "base_uri": "https://localhost:8080/"
        },
        "id": "AoulBEu3q9ic",
        "outputId": "cf2ea55d-01b3-4184-d5df-9e7963297f9f"
      },
      "outputs": [
        {
          "output_type": "stream",
          "name": "stdout",
          "text": [
            "Number of null values before handling in title_status : 566\n"
          ]
        }
      ],
      "source": [
        "print(\"Number of null values before handling in title_status :\" ,df['title_status'].isnull().sum())"
      ]
    },
    {
      "cell_type": "code",
      "execution_count": 31,
      "metadata": {
        "id": "6VTJwwLCtMTh"
      },
      "outputs": [],
      "source": [
        "# Replacing null values in title_status column\n",
        "\n",
        "df['title_status'] = df['title_status'].fillna(df.title_status.mode()[0])"
      ]
    },
    {
      "cell_type": "code",
      "execution_count": 32,
      "metadata": {
        "colab": {
          "base_uri": "https://localhost:8080/"
        },
        "id": "iiecXcDGtMiG",
        "outputId": "364c3929-9817-4b36-bac2-8da8d4122349"
      },
      "outputs": [
        {
          "output_type": "stream",
          "name": "stdout",
          "text": [
            "Number of null values after handling in title_status : 0\n"
          ]
        }
      ],
      "source": [
        "print(\"Number of null values after handling in title_status :\" ,df['title_status'].isnull().sum())"
      ]
    },
    {
      "cell_type": "markdown",
      "metadata": {
        "id": "BUWo8b9Wtj1Q"
      },
      "source": [
        "**Manufacturer**"
      ]
    },
    {
      "cell_type": "code",
      "execution_count": 33,
      "metadata": {
        "colab": {
          "base_uri": "https://localhost:8080/"
        },
        "id": "EM5M-X5OtWCw",
        "outputId": "934d62bd-399b-4d52-8b2e-c14cb02b3843"
      },
      "outputs": [
        {
          "output_type": "stream",
          "name": "stdout",
          "text": [
            "Number of null values before handling in manufacturer : 1093\n"
          ]
        }
      ],
      "source": [
        "print(\"Number of null values before handling in manufacturer :\" ,df['manufacturer'].isnull().sum())"
      ]
    },
    {
      "cell_type": "code",
      "execution_count": 34,
      "metadata": {
        "id": "Xs-07JoMt-G5"
      },
      "outputs": [],
      "source": [
        "# Replacing null values in manufacturer column\n",
        "\n",
        "df['manufacturer'] = df['manufacturer'].fillna(df.manufacturer.mode()[0])"
      ]
    },
    {
      "cell_type": "code",
      "execution_count": 35,
      "metadata": {
        "colab": {
          "base_uri": "https://localhost:8080/"
        },
        "id": "QAyjtmy4uG0B",
        "outputId": "5374ae9d-4bc1-4981-d0ba-d663a022f8ae"
      },
      "outputs": [
        {
          "output_type": "stream",
          "name": "stdout",
          "text": [
            "Number of null values after handling in manufacturer : 0\n"
          ]
        }
      ],
      "source": [
        "print(\"Number of null values after handling in manufacturer :\" ,df['manufacturer'].isnull().sum())"
      ]
    },
    {
      "cell_type": "markdown",
      "metadata": {
        "id": "hs6YJ95AvKBf"
      },
      "source": [
        "**Type**"
      ]
    },
    {
      "cell_type": "code",
      "execution_count": 36,
      "metadata": {
        "colab": {
          "base_uri": "https://localhost:8080/"
        },
        "id": "Zkj9lyQouJLb",
        "outputId": "6da59a80-1ce2-4792-ada4-d9a9dcbea095"
      },
      "outputs": [
        {
          "output_type": "stream",
          "name": "stdout",
          "text": [
            "Number of null values before handling in type : 7320\n"
          ]
        }
      ],
      "source": [
        "print(\"Number of null values before handling in type :\" ,df['type'].isnull().sum())"
      ]
    },
    {
      "cell_type": "code",
      "execution_count": 37,
      "metadata": {
        "id": "hf64BhccvQs6"
      },
      "outputs": [],
      "source": [
        "# Replacing null values in type column\n",
        "\n",
        "df['type'] = df['type'].fillna(df.type.mode()[0])"
      ]
    },
    {
      "cell_type": "code",
      "execution_count": 38,
      "metadata": {
        "colab": {
          "base_uri": "https://localhost:8080/"
        },
        "id": "O5IpOOHJvgWM",
        "outputId": "e889951e-3872-4115-8011-1616e4852f63"
      },
      "outputs": [
        {
          "output_type": "stream",
          "name": "stdout",
          "text": [
            "Number of null values after handling in type : 0\n"
          ]
        }
      ],
      "source": [
        "print(\"Number of null values after handling in type :\" ,df['type'].isnull().sum())"
      ]
    },
    {
      "cell_type": "markdown",
      "metadata": {
        "id": "S3PP5IjDwVu6"
      },
      "source": [
        "**Paint_color**"
      ]
    },
    {
      "cell_type": "code",
      "execution_count": 39,
      "metadata": {
        "colab": {
          "base_uri": "https://localhost:8080/"
        },
        "id": "ueIvIgsqvnTe",
        "outputId": "1a175417-e595-4c3a-f3e9-1bd0cfb2e7eb"
      },
      "outputs": [
        {
          "output_type": "stream",
          "name": "stdout",
          "text": [
            "Number of null values before handling in paint_color : 10069\n"
          ]
        }
      ],
      "source": [
        "print(\"Number of null values before handling in paint_color :\" ,df['paint_color'].isnull().sum())"
      ]
    },
    {
      "cell_type": "code",
      "execution_count": 40,
      "metadata": {
        "id": "T5flnPWewcmM"
      },
      "outputs": [],
      "source": [
        "# Replacing null values in paint_color column\n",
        "\n",
        "df['paint_color'] = df['paint_color'].fillna(df.paint_color.mode()[0])"
      ]
    },
    {
      "cell_type": "code",
      "execution_count": 41,
      "metadata": {
        "colab": {
          "base_uri": "https://localhost:8080/"
        },
        "id": "qWWkhH2RwhmR",
        "outputId": "38231f1b-2eca-4a4e-b3f6-f5e2b8389e81"
      },
      "outputs": [
        {
          "output_type": "stream",
          "name": "stdout",
          "text": [
            "Number of null values after handling in paint_color : 0\n"
          ]
        }
      ],
      "source": [
        "print(\"Number of null values after handling in paint_color :\" ,df['paint_color'].isnull().sum())"
      ]
    },
    {
      "cell_type": "markdown",
      "metadata": {
        "id": "74JZaeumw9cv"
      },
      "source": [
        "**Drive**"
      ]
    },
    {
      "cell_type": "code",
      "execution_count": 42,
      "metadata": {
        "colab": {
          "base_uri": "https://localhost:8080/"
        },
        "id": "YKafS-Dwwlze",
        "outputId": "c7b4e724-fe27-427d-ce3b-dc7fd763fc22"
      },
      "outputs": [
        {
          "output_type": "stream",
          "name": "stdout",
          "text": [
            "Number of null values before handling in drive : 10559\n"
          ]
        }
      ],
      "source": [
        "print(\"Number of null values before handling in drive :\" ,df['drive'].isnull().sum())"
      ]
    },
    {
      "cell_type": "code",
      "execution_count": 43,
      "metadata": {
        "id": "eboNc7g8xCpb"
      },
      "outputs": [],
      "source": [
        "# Replacing null values in drive column\n",
        "\n",
        "df['drive'] = df['drive'].fillna(df.drive.mode()[0])"
      ]
    },
    {
      "cell_type": "code",
      "execution_count": 44,
      "metadata": {
        "colab": {
          "base_uri": "https://localhost:8080/"
        },
        "id": "z99m8SwJxHNt",
        "outputId": "665831e2-04fa-4cb4-8c84-e04398b9067e"
      },
      "outputs": [
        {
          "output_type": "stream",
          "name": "stdout",
          "text": [
            "Number of null values after handling in drive : 0\n"
          ]
        }
      ],
      "source": [
        "print(\"Number of null values after handling in drive :\" ,df['drive'].isnull().sum())"
      ]
    },
    {
      "cell_type": "markdown",
      "metadata": {
        "id": "U7RZanMGx5eK"
      },
      "source": [
        "**Condition**"
      ]
    },
    {
      "cell_type": "code",
      "execution_count": 45,
      "metadata": {
        "colab": {
          "base_uri": "https://localhost:8080/"
        },
        "id": "jHfQMVEcxKQg",
        "outputId": "7808e74e-4f10-4bd7-e7ea-746662038714"
      },
      "outputs": [
        {
          "output_type": "stream",
          "name": "stdout",
          "text": [
            "Number of null values before handling in condition : 13276\n"
          ]
        }
      ],
      "source": [
        "print(\"Number of null values before handling in condition :\" ,df['condition'].isnull().sum())"
      ]
    },
    {
      "cell_type": "code",
      "execution_count": 46,
      "metadata": {
        "id": "vwy1zFi7yADu"
      },
      "outputs": [],
      "source": [
        "# Replacing null values in condition column\n",
        "\n",
        "df['condition'] = df['condition'].fillna(df.condition.mode()[0])"
      ]
    },
    {
      "cell_type": "code",
      "execution_count": 47,
      "metadata": {
        "colab": {
          "base_uri": "https://localhost:8080/"
        },
        "id": "1O1ujEWDyI9q",
        "outputId": "1c000e79-0a39-4800-e4b7-3d64d3a799f1"
      },
      "outputs": [
        {
          "output_type": "stream",
          "name": "stdout",
          "text": [
            "Number of null values after handling in condition : 0\n"
          ]
        }
      ],
      "source": [
        "print(\"Number of null values after handling in condition :\" ,df['condition'].isnull().sum())"
      ]
    },
    {
      "cell_type": "markdown",
      "metadata": {
        "id": "NtmuYbvAylEA"
      },
      "source": [
        "**Cylinders**"
      ]
    },
    {
      "cell_type": "code",
      "execution_count": 48,
      "metadata": {
        "colab": {
          "base_uri": "https://localhost:8080/"
        },
        "id": "Y4a63qbByMU_",
        "outputId": "da2ce633-0fec-4db1-a0ec-510d2c08db06"
      },
      "outputs": [
        {
          "output_type": "stream",
          "name": "stdout",
          "text": [
            "Number of null values before handling in cylinders : 14367\n"
          ]
        }
      ],
      "source": [
        "print(\"Number of null values before handling in cylinders :\" ,df['cylinders'].isnull().sum())"
      ]
    },
    {
      "cell_type": "code",
      "execution_count": 49,
      "metadata": {
        "id": "9j0vcUldyq0-"
      },
      "outputs": [],
      "source": [
        "# Replacing null values in cylinders column\n",
        "\n",
        "df['cylinders'] = df['cylinders'].fillna(df.cylinders.mode()[0])"
      ]
    },
    {
      "cell_type": "code",
      "execution_count": 50,
      "metadata": {
        "colab": {
          "base_uri": "https://localhost:8080/"
        },
        "id": "gJBTNEnmy5xM",
        "outputId": "d35dd70c-3299-47be-a6d9-1bf66e54a6dc"
      },
      "outputs": [
        {
          "output_type": "stream",
          "name": "stdout",
          "text": [
            "Number of null values after handling in cylinders : 0\n"
          ]
        }
      ],
      "source": [
        "print(\"Number of null values after handling in cylinders :\" ,df['cylinders'].isnull().sum())"
      ]
    },
    {
      "cell_type": "markdown",
      "metadata": {
        "id": "rN1LIgYpzTCo"
      },
      "source": [
        "**Size**"
      ]
    },
    {
      "cell_type": "code",
      "execution_count": 51,
      "metadata": {
        "colab": {
          "base_uri": "https://localhost:8080/"
        },
        "id": "gZNBZ9vNy8Rh",
        "outputId": "789653f9-d65a-41b1-db46-68fde65aa065"
      },
      "outputs": [
        {
          "output_type": "stream",
          "name": "stdout",
          "text": [
            "Number of null values before handling in size : 25305\n"
          ]
        }
      ],
      "source": [
        "print(\"Number of null values before handling in size :\" ,df['size'].isnull().sum())"
      ]
    },
    {
      "cell_type": "code",
      "execution_count": 52,
      "metadata": {
        "id": "RjVo22nzzqfz"
      },
      "outputs": [],
      "source": [
        "# Replacing null values in size column\n",
        "\n",
        "df['size'] = df['size'].fillna(df['size'].mode()[0])"
      ]
    },
    {
      "cell_type": "code",
      "execution_count": 53,
      "metadata": {
        "colab": {
          "base_uri": "https://localhost:8080/"
        },
        "id": "o1OEQKfGzzOS",
        "outputId": "b794bca2-c3b6-435b-e1d9-7536ce3ddc85"
      },
      "outputs": [
        {
          "output_type": "stream",
          "name": "stdout",
          "text": [
            "Number of null values after handling in size : 0\n"
          ]
        }
      ],
      "source": [
        "print(\"Number of null values after handling in size :\" ,df['size'].isnull().sum())"
      ]
    },
    {
      "cell_type": "code",
      "execution_count": 54,
      "metadata": {
        "colab": {
          "base_uri": "https://localhost:8080/",
          "height": 520
        },
        "id": "MyQdl3nvz5gq",
        "outputId": "00fa4bef-4c3b-492b-c3f6-a96571856b04"
      },
      "outputs": [
        {
          "output_type": "execute_result",
          "data": {
            "text/plain": [
              "              Null_Values  percent_missing\n",
              "region                  0              0.0\n",
              "price                   0              0.0\n",
              "year                    0              0.0\n",
              "manufacturer            0              0.0\n",
              "model                   0              0.0\n",
              "condition               0              0.0\n",
              "cylinders               0              0.0\n",
              "fuel                    0              0.0\n",
              "odometer                0              0.0\n",
              "title_status            0              0.0\n",
              "transmission            0              0.0\n",
              "drive                   0              0.0\n",
              "size                    0              0.0\n",
              "type                    0              0.0\n",
              "paint_color             0              0.0"
            ],
            "text/html": [
              "\n",
              "  <div id=\"df-f1b53efd-68a8-4da7-8323-3bbb0a774560\">\n",
              "    <div class=\"colab-df-container\">\n",
              "      <div>\n",
              "<style scoped>\n",
              "    .dataframe tbody tr th:only-of-type {\n",
              "        vertical-align: middle;\n",
              "    }\n",
              "\n",
              "    .dataframe tbody tr th {\n",
              "        vertical-align: top;\n",
              "    }\n",
              "\n",
              "    .dataframe thead th {\n",
              "        text-align: right;\n",
              "    }\n",
              "</style>\n",
              "<table border=\"1\" class=\"dataframe\">\n",
              "  <thead>\n",
              "    <tr style=\"text-align: right;\">\n",
              "      <th></th>\n",
              "      <th>Null_Values</th>\n",
              "      <th>percent_missing</th>\n",
              "    </tr>\n",
              "  </thead>\n",
              "  <tbody>\n",
              "    <tr>\n",
              "      <th>region</th>\n",
              "      <td>0</td>\n",
              "      <td>0.0</td>\n",
              "    </tr>\n",
              "    <tr>\n",
              "      <th>price</th>\n",
              "      <td>0</td>\n",
              "      <td>0.0</td>\n",
              "    </tr>\n",
              "    <tr>\n",
              "      <th>year</th>\n",
              "      <td>0</td>\n",
              "      <td>0.0</td>\n",
              "    </tr>\n",
              "    <tr>\n",
              "      <th>manufacturer</th>\n",
              "      <td>0</td>\n",
              "      <td>0.0</td>\n",
              "    </tr>\n",
              "    <tr>\n",
              "      <th>model</th>\n",
              "      <td>0</td>\n",
              "      <td>0.0</td>\n",
              "    </tr>\n",
              "    <tr>\n",
              "      <th>condition</th>\n",
              "      <td>0</td>\n",
              "      <td>0.0</td>\n",
              "    </tr>\n",
              "    <tr>\n",
              "      <th>cylinders</th>\n",
              "      <td>0</td>\n",
              "      <td>0.0</td>\n",
              "    </tr>\n",
              "    <tr>\n",
              "      <th>fuel</th>\n",
              "      <td>0</td>\n",
              "      <td>0.0</td>\n",
              "    </tr>\n",
              "    <tr>\n",
              "      <th>odometer</th>\n",
              "      <td>0</td>\n",
              "      <td>0.0</td>\n",
              "    </tr>\n",
              "    <tr>\n",
              "      <th>title_status</th>\n",
              "      <td>0</td>\n",
              "      <td>0.0</td>\n",
              "    </tr>\n",
              "    <tr>\n",
              "      <th>transmission</th>\n",
              "      <td>0</td>\n",
              "      <td>0.0</td>\n",
              "    </tr>\n",
              "    <tr>\n",
              "      <th>drive</th>\n",
              "      <td>0</td>\n",
              "      <td>0.0</td>\n",
              "    </tr>\n",
              "    <tr>\n",
              "      <th>size</th>\n",
              "      <td>0</td>\n",
              "      <td>0.0</td>\n",
              "    </tr>\n",
              "    <tr>\n",
              "      <th>type</th>\n",
              "      <td>0</td>\n",
              "      <td>0.0</td>\n",
              "    </tr>\n",
              "    <tr>\n",
              "      <th>paint_color</th>\n",
              "      <td>0</td>\n",
              "      <td>0.0</td>\n",
              "    </tr>\n",
              "  </tbody>\n",
              "</table>\n",
              "</div>\n",
              "      <button class=\"colab-df-convert\" onclick=\"convertToInteractive('df-f1b53efd-68a8-4da7-8323-3bbb0a774560')\"\n",
              "              title=\"Convert this dataframe to an interactive table.\"\n",
              "              style=\"display:none;\">\n",
              "        \n",
              "  <svg xmlns=\"http://www.w3.org/2000/svg\" height=\"24px\"viewBox=\"0 0 24 24\"\n",
              "       width=\"24px\">\n",
              "    <path d=\"M0 0h24v24H0V0z\" fill=\"none\"/>\n",
              "    <path d=\"M18.56 5.44l.94 2.06.94-2.06 2.06-.94-2.06-.94-.94-2.06-.94 2.06-2.06.94zm-11 1L8.5 8.5l.94-2.06 2.06-.94-2.06-.94L8.5 2.5l-.94 2.06-2.06.94zm10 10l.94 2.06.94-2.06 2.06-.94-2.06-.94-.94-2.06-.94 2.06-2.06.94z\"/><path d=\"M17.41 7.96l-1.37-1.37c-.4-.4-.92-.59-1.43-.59-.52 0-1.04.2-1.43.59L10.3 9.45l-7.72 7.72c-.78.78-.78 2.05 0 2.83L4 21.41c.39.39.9.59 1.41.59.51 0 1.02-.2 1.41-.59l7.78-7.78 2.81-2.81c.8-.78.8-2.07 0-2.86zM5.41 20L4 18.59l7.72-7.72 1.47 1.35L5.41 20z\"/>\n",
              "  </svg>\n",
              "      </button>\n",
              "      \n",
              "  <style>\n",
              "    .colab-df-container {\n",
              "      display:flex;\n",
              "      flex-wrap:wrap;\n",
              "      gap: 12px;\n",
              "    }\n",
              "\n",
              "    .colab-df-convert {\n",
              "      background-color: #E8F0FE;\n",
              "      border: none;\n",
              "      border-radius: 50%;\n",
              "      cursor: pointer;\n",
              "      display: none;\n",
              "      fill: #1967D2;\n",
              "      height: 32px;\n",
              "      padding: 0 0 0 0;\n",
              "      width: 32px;\n",
              "    }\n",
              "\n",
              "    .colab-df-convert:hover {\n",
              "      background-color: #E2EBFA;\n",
              "      box-shadow: 0px 1px 2px rgba(60, 64, 67, 0.3), 0px 1px 3px 1px rgba(60, 64, 67, 0.15);\n",
              "      fill: #174EA6;\n",
              "    }\n",
              "\n",
              "    [theme=dark] .colab-df-convert {\n",
              "      background-color: #3B4455;\n",
              "      fill: #D2E3FC;\n",
              "    }\n",
              "\n",
              "    [theme=dark] .colab-df-convert:hover {\n",
              "      background-color: #434B5C;\n",
              "      box-shadow: 0px 1px 3px 1px rgba(0, 0, 0, 0.15);\n",
              "      filter: drop-shadow(0px 1px 2px rgba(0, 0, 0, 0.3));\n",
              "      fill: #FFFFFF;\n",
              "    }\n",
              "  </style>\n",
              "\n",
              "      <script>\n",
              "        const buttonEl =\n",
              "          document.querySelector('#df-f1b53efd-68a8-4da7-8323-3bbb0a774560 button.colab-df-convert');\n",
              "        buttonEl.style.display =\n",
              "          google.colab.kernel.accessAllowed ? 'block' : 'none';\n",
              "\n",
              "        async function convertToInteractive(key) {\n",
              "          const element = document.querySelector('#df-f1b53efd-68a8-4da7-8323-3bbb0a774560');\n",
              "          const dataTable =\n",
              "            await google.colab.kernel.invokeFunction('convertToInteractive',\n",
              "                                                     [key], {});\n",
              "          if (!dataTable) return;\n",
              "\n",
              "          const docLinkHtml = 'Like what you see? Visit the ' +\n",
              "            '<a target=\"_blank\" href=https://colab.research.google.com/notebooks/data_table.ipynb>data table notebook</a>'\n",
              "            + ' to learn more about interactive tables.';\n",
              "          element.innerHTML = '';\n",
              "          dataTable['output_type'] = 'display_data';\n",
              "          await google.colab.output.renderOutput(dataTable, element);\n",
              "          const docLink = document.createElement('div');\n",
              "          docLink.innerHTML = docLinkHtml;\n",
              "          element.appendChild(docLink);\n",
              "        }\n",
              "      </script>\n",
              "    </div>\n",
              "  </div>\n",
              "  "
            ]
          },
          "metadata": {},
          "execution_count": 54
        }
      ],
      "source": [
        "# Checking null values again\n",
        "Null_Values = df.isna().sum()\n",
        "percent_missing = df.isnull().sum() * 100 / len(df)\n",
        "missing_value_df = pd.DataFrame({'Null_Values' : Null_Values,'percent_missing': percent_missing})\n",
        "missing_value_df.sort_values(['percent_missing'],ascending=False)"
      ]
    },
    {
      "cell_type": "code",
      "execution_count": 55,
      "metadata": {
        "colab": {
          "base_uri": "https://localhost:8080/"
        },
        "id": "aNjUrOkT0V_A",
        "outputId": "986cf9fc-def7-41c8-8558-985a3146bdb1"
      },
      "outputs": [
        {
          "output_type": "stream",
          "name": "stdout",
          "text": [
            "<class 'pandas.core.frame.DataFrame'>\n",
            "Int64Index: 35197 entries, 6 to 42752\n",
            "Data columns (total 15 columns):\n",
            " #   Column        Non-Null Count  Dtype  \n",
            "---  ------        --------------  -----  \n",
            " 0   region        35197 non-null  object \n",
            " 1   price         35197 non-null  int64  \n",
            " 2   year          35197 non-null  float64\n",
            " 3   manufacturer  35197 non-null  object \n",
            " 4   model         35197 non-null  object \n",
            " 5   condition     35197 non-null  object \n",
            " 6   cylinders     35197 non-null  object \n",
            " 7   fuel          35197 non-null  object \n",
            " 8   odometer      35197 non-null  float64\n",
            " 9   title_status  35197 non-null  object \n",
            " 10  transmission  35197 non-null  object \n",
            " 11  drive         35197 non-null  object \n",
            " 12  size          35197 non-null  object \n",
            " 13  type          35197 non-null  object \n",
            " 14  paint_color   35197 non-null  object \n",
            "dtypes: float64(2), int64(1), object(12)\n",
            "memory usage: 4.3+ MB\n"
          ]
        }
      ],
      "source": [
        "df.info()"
      ]
    },
    {
      "cell_type": "code",
      "execution_count": 56,
      "metadata": {
        "colab": {
          "base_uri": "https://localhost:8080/"
        },
        "id": "dLjzV78lAGzb",
        "outputId": "ac927da9-1421-4899-f6b2-0c446d974260"
      },
      "outputs": [
        {
          "output_type": "execute_result",
          "data": {
            "text/plain": [
              "6 cylinders     22601\n",
              "4 cylinders      6676\n",
              "8 cylinders      5532\n",
              "5 cylinders       172\n",
              "10 cylinders       85\n",
              "other              64\n",
              "3 cylinders        59\n",
              "12 cylinders        8\n",
              "Name: cylinders, dtype: int64"
            ]
          },
          "metadata": {},
          "execution_count": 56
        }
      ],
      "source": [
        "df.cylinders.value_counts()"
      ]
    },
    {
      "cell_type": "markdown",
      "metadata": {
        "id": "zuDJIv76AYvB"
      },
      "source": [
        "**Encoding categorical variables**"
      ]
    },
    {
      "cell_type": "code",
      "execution_count": 57,
      "metadata": {
        "id": "XHLDsxWtAQ7H"
      },
      "outputs": [],
      "source": [
        "# importing label encoder from sklearn module\n",
        "\n",
        "from sklearn import preprocessing\n",
        "LabelEncoding = preprocessing.LabelEncoder()"
      ]
    },
    {
      "cell_type": "code",
      "execution_count": 58,
      "metadata": {
        "id": "fetFC1N5Al-_"
      },
      "outputs": [],
      "source": [
        "# Extracting categorical columns from the DataFrame df\n",
        "categorical_columns = [i for i in df.columns if df.dtypes[i]=='object']"
      ]
    },
    {
      "cell_type": "code",
      "execution_count": 59,
      "metadata": {
        "id": "ftvBRL0lBBTe"
      },
      "outputs": [],
      "source": [
        "# code for converting all categorical data to numbeic using label encoding \n",
        "for i in categorical_columns:\n",
        "  df[i] = LabelEncoding.fit_transform(df[i])"
      ]
    },
    {
      "cell_type": "code",
      "execution_count": 60,
      "metadata": {
        "colab": {
          "base_uri": "https://localhost:8080/"
        },
        "id": "oyMwN59jBmJF",
        "outputId": "124af5e6-e708-49ef-ca8b-6009f59ef7d3"
      },
      "outputs": [
        {
          "output_type": "stream",
          "name": "stdout",
          "text": [
            "<class 'pandas.core.frame.DataFrame'>\n",
            "Int64Index: 35197 entries, 6 to 42752\n",
            "Data columns (total 15 columns):\n",
            " #   Column        Non-Null Count  Dtype  \n",
            "---  ------        --------------  -----  \n",
            " 0   region        35197 non-null  int64  \n",
            " 1   price         35197 non-null  int64  \n",
            " 2   year          35197 non-null  float64\n",
            " 3   manufacturer  35197 non-null  int64  \n",
            " 4   model         35197 non-null  int64  \n",
            " 5   condition     35197 non-null  int64  \n",
            " 6   cylinders     35197 non-null  int64  \n",
            " 7   fuel          35197 non-null  int64  \n",
            " 8   odometer      35197 non-null  float64\n",
            " 9   title_status  35197 non-null  int64  \n",
            " 10  transmission  35197 non-null  int64  \n",
            " 11  drive         35197 non-null  int64  \n",
            " 12  size          35197 non-null  int64  \n",
            " 13  type          35197 non-null  int64  \n",
            " 14  paint_color   35197 non-null  int64  \n",
            "dtypes: float64(2), int64(13)\n",
            "memory usage: 4.3 MB\n"
          ]
        }
      ],
      "source": [
        "df.info()"
      ]
    },
    {
      "cell_type": "code",
      "execution_count": 61,
      "metadata": {
        "id": "2D8HaWB3Bo3H"
      },
      "outputs": [],
      "source": [
        "#df.drop(['index'],axis =1,inplace= True)"
      ]
    },
    {
      "cell_type": "code",
      "execution_count": 62,
      "metadata": {
        "colab": {
          "base_uri": "https://localhost:8080/",
          "height": 363
        },
        "id": "OyUjVdS8C59E",
        "outputId": "33ac935e-3234-4049-af00-d9a75085d723"
      },
      "outputs": [
        {
          "output_type": "execute_result",
          "data": {
            "text/plain": [
              "    region  price    year  manufacturer  model  condition  cylinders  fuel  \\\n",
              "6       16  33590  2014.0            11   5457          2          6     2   \n",
              "7       16  27990  2014.0            34   5984          2          5     4   \n",
              "8       16  30990  2019.0            10   4971          2          5     4   \n",
              "9       16  31990  2013.0            34   6390          2          6     2   \n",
              "10      16  36990  2019.0            36   5271          2          5     2   \n",
              "11      16  31990  2020.0            36   5266          2          5     2   \n",
              "12      16  29990  2018.0             1   5147          2          5     4   \n",
              "13      16  16590  2015.0            14   5773          2          5     2   \n",
              "14      16  35990  2019.0            36   5273          2          5     4   \n",
              "16      16  27990  2017.0            20   2026          2          5     2   \n",
              "\n",
              "    odometer  title_status  transmission  drive  size  type  paint_color  \n",
              "6    57923.0             0             2      0     1     8           10  \n",
              "7    17805.0             0             2      0     1     8            8  \n",
              "8     1834.0             0             2      0     1     8            0  \n",
              "9    55068.0             0             2      0     1     8           10  \n",
              "10    8141.0             0             2      0     1     9           10  \n",
              "11   16594.0             0             2      1     1     9           10  \n",
              "12   26978.0             0             2      0     1     4           10  \n",
              "13   26655.0             0             2      1     1     9           10  \n",
              "14   15567.0             0             2      0     1     9            8  \n",
              "16   19492.0             0             0      0     1     9           10  "
            ],
            "text/html": [
              "\n",
              "  <div id=\"df-1d22c4c6-fb73-4313-b675-c4db6f42f77c\">\n",
              "    <div class=\"colab-df-container\">\n",
              "      <div>\n",
              "<style scoped>\n",
              "    .dataframe tbody tr th:only-of-type {\n",
              "        vertical-align: middle;\n",
              "    }\n",
              "\n",
              "    .dataframe tbody tr th {\n",
              "        vertical-align: top;\n",
              "    }\n",
              "\n",
              "    .dataframe thead th {\n",
              "        text-align: right;\n",
              "    }\n",
              "</style>\n",
              "<table border=\"1\" class=\"dataframe\">\n",
              "  <thead>\n",
              "    <tr style=\"text-align: right;\">\n",
              "      <th></th>\n",
              "      <th>region</th>\n",
              "      <th>price</th>\n",
              "      <th>year</th>\n",
              "      <th>manufacturer</th>\n",
              "      <th>model</th>\n",
              "      <th>condition</th>\n",
              "      <th>cylinders</th>\n",
              "      <th>fuel</th>\n",
              "      <th>odometer</th>\n",
              "      <th>title_status</th>\n",
              "      <th>transmission</th>\n",
              "      <th>drive</th>\n",
              "      <th>size</th>\n",
              "      <th>type</th>\n",
              "      <th>paint_color</th>\n",
              "    </tr>\n",
              "  </thead>\n",
              "  <tbody>\n",
              "    <tr>\n",
              "      <th>6</th>\n",
              "      <td>16</td>\n",
              "      <td>33590</td>\n",
              "      <td>2014.0</td>\n",
              "      <td>11</td>\n",
              "      <td>5457</td>\n",
              "      <td>2</td>\n",
              "      <td>6</td>\n",
              "      <td>2</td>\n",
              "      <td>57923.0</td>\n",
              "      <td>0</td>\n",
              "      <td>2</td>\n",
              "      <td>0</td>\n",
              "      <td>1</td>\n",
              "      <td>8</td>\n",
              "      <td>10</td>\n",
              "    </tr>\n",
              "    <tr>\n",
              "      <th>7</th>\n",
              "      <td>16</td>\n",
              "      <td>27990</td>\n",
              "      <td>2014.0</td>\n",
              "      <td>34</td>\n",
              "      <td>5984</td>\n",
              "      <td>2</td>\n",
              "      <td>5</td>\n",
              "      <td>4</td>\n",
              "      <td>17805.0</td>\n",
              "      <td>0</td>\n",
              "      <td>2</td>\n",
              "      <td>0</td>\n",
              "      <td>1</td>\n",
              "      <td>8</td>\n",
              "      <td>8</td>\n",
              "    </tr>\n",
              "    <tr>\n",
              "      <th>8</th>\n",
              "      <td>16</td>\n",
              "      <td>30990</td>\n",
              "      <td>2019.0</td>\n",
              "      <td>10</td>\n",
              "      <td>4971</td>\n",
              "      <td>2</td>\n",
              "      <td>5</td>\n",
              "      <td>4</td>\n",
              "      <td>1834.0</td>\n",
              "      <td>0</td>\n",
              "      <td>2</td>\n",
              "      <td>0</td>\n",
              "      <td>1</td>\n",
              "      <td>8</td>\n",
              "      <td>0</td>\n",
              "    </tr>\n",
              "    <tr>\n",
              "      <th>9</th>\n",
              "      <td>16</td>\n",
              "      <td>31990</td>\n",
              "      <td>2013.0</td>\n",
              "      <td>34</td>\n",
              "      <td>6390</td>\n",
              "      <td>2</td>\n",
              "      <td>6</td>\n",
              "      <td>2</td>\n",
              "      <td>55068.0</td>\n",
              "      <td>0</td>\n",
              "      <td>2</td>\n",
              "      <td>0</td>\n",
              "      <td>1</td>\n",
              "      <td>8</td>\n",
              "      <td>10</td>\n",
              "    </tr>\n",
              "    <tr>\n",
              "      <th>10</th>\n",
              "      <td>16</td>\n",
              "      <td>36990</td>\n",
              "      <td>2019.0</td>\n",
              "      <td>36</td>\n",
              "      <td>5271</td>\n",
              "      <td>2</td>\n",
              "      <td>5</td>\n",
              "      <td>2</td>\n",
              "      <td>8141.0</td>\n",
              "      <td>0</td>\n",
              "      <td>2</td>\n",
              "      <td>0</td>\n",
              "      <td>1</td>\n",
              "      <td>9</td>\n",
              "      <td>10</td>\n",
              "    </tr>\n",
              "    <tr>\n",
              "      <th>11</th>\n",
              "      <td>16</td>\n",
              "      <td>31990</td>\n",
              "      <td>2020.0</td>\n",
              "      <td>36</td>\n",
              "      <td>5266</td>\n",
              "      <td>2</td>\n",
              "      <td>5</td>\n",
              "      <td>2</td>\n",
              "      <td>16594.0</td>\n",
              "      <td>0</td>\n",
              "      <td>2</td>\n",
              "      <td>1</td>\n",
              "      <td>1</td>\n",
              "      <td>9</td>\n",
              "      <td>10</td>\n",
              "    </tr>\n",
              "    <tr>\n",
              "      <th>12</th>\n",
              "      <td>16</td>\n",
              "      <td>29990</td>\n",
              "      <td>2018.0</td>\n",
              "      <td>1</td>\n",
              "      <td>5147</td>\n",
              "      <td>2</td>\n",
              "      <td>5</td>\n",
              "      <td>4</td>\n",
              "      <td>26978.0</td>\n",
              "      <td>0</td>\n",
              "      <td>2</td>\n",
              "      <td>0</td>\n",
              "      <td>1</td>\n",
              "      <td>4</td>\n",
              "      <td>10</td>\n",
              "    </tr>\n",
              "    <tr>\n",
              "      <th>13</th>\n",
              "      <td>16</td>\n",
              "      <td>16590</td>\n",
              "      <td>2015.0</td>\n",
              "      <td>14</td>\n",
              "      <td>5773</td>\n",
              "      <td>2</td>\n",
              "      <td>5</td>\n",
              "      <td>2</td>\n",
              "      <td>26655.0</td>\n",
              "      <td>0</td>\n",
              "      <td>2</td>\n",
              "      <td>1</td>\n",
              "      <td>1</td>\n",
              "      <td>9</td>\n",
              "      <td>10</td>\n",
              "    </tr>\n",
              "    <tr>\n",
              "      <th>14</th>\n",
              "      <td>16</td>\n",
              "      <td>35990</td>\n",
              "      <td>2019.0</td>\n",
              "      <td>36</td>\n",
              "      <td>5273</td>\n",
              "      <td>2</td>\n",
              "      <td>5</td>\n",
              "      <td>4</td>\n",
              "      <td>15567.0</td>\n",
              "      <td>0</td>\n",
              "      <td>2</td>\n",
              "      <td>0</td>\n",
              "      <td>1</td>\n",
              "      <td>9</td>\n",
              "      <td>8</td>\n",
              "    </tr>\n",
              "    <tr>\n",
              "      <th>16</th>\n",
              "      <td>16</td>\n",
              "      <td>27990</td>\n",
              "      <td>2017.0</td>\n",
              "      <td>20</td>\n",
              "      <td>2026</td>\n",
              "      <td>2</td>\n",
              "      <td>5</td>\n",
              "      <td>2</td>\n",
              "      <td>19492.0</td>\n",
              "      <td>0</td>\n",
              "      <td>0</td>\n",
              "      <td>0</td>\n",
              "      <td>1</td>\n",
              "      <td>9</td>\n",
              "      <td>10</td>\n",
              "    </tr>\n",
              "  </tbody>\n",
              "</table>\n",
              "</div>\n",
              "      <button class=\"colab-df-convert\" onclick=\"convertToInteractive('df-1d22c4c6-fb73-4313-b675-c4db6f42f77c')\"\n",
              "              title=\"Convert this dataframe to an interactive table.\"\n",
              "              style=\"display:none;\">\n",
              "        \n",
              "  <svg xmlns=\"http://www.w3.org/2000/svg\" height=\"24px\"viewBox=\"0 0 24 24\"\n",
              "       width=\"24px\">\n",
              "    <path d=\"M0 0h24v24H0V0z\" fill=\"none\"/>\n",
              "    <path d=\"M18.56 5.44l.94 2.06.94-2.06 2.06-.94-2.06-.94-.94-2.06-.94 2.06-2.06.94zm-11 1L8.5 8.5l.94-2.06 2.06-.94-2.06-.94L8.5 2.5l-.94 2.06-2.06.94zm10 10l.94 2.06.94-2.06 2.06-.94-2.06-.94-.94-2.06-.94 2.06-2.06.94z\"/><path d=\"M17.41 7.96l-1.37-1.37c-.4-.4-.92-.59-1.43-.59-.52 0-1.04.2-1.43.59L10.3 9.45l-7.72 7.72c-.78.78-.78 2.05 0 2.83L4 21.41c.39.39.9.59 1.41.59.51 0 1.02-.2 1.41-.59l7.78-7.78 2.81-2.81c.8-.78.8-2.07 0-2.86zM5.41 20L4 18.59l7.72-7.72 1.47 1.35L5.41 20z\"/>\n",
              "  </svg>\n",
              "      </button>\n",
              "      \n",
              "  <style>\n",
              "    .colab-df-container {\n",
              "      display:flex;\n",
              "      flex-wrap:wrap;\n",
              "      gap: 12px;\n",
              "    }\n",
              "\n",
              "    .colab-df-convert {\n",
              "      background-color: #E8F0FE;\n",
              "      border: none;\n",
              "      border-radius: 50%;\n",
              "      cursor: pointer;\n",
              "      display: none;\n",
              "      fill: #1967D2;\n",
              "      height: 32px;\n",
              "      padding: 0 0 0 0;\n",
              "      width: 32px;\n",
              "    }\n",
              "\n",
              "    .colab-df-convert:hover {\n",
              "      background-color: #E2EBFA;\n",
              "      box-shadow: 0px 1px 2px rgba(60, 64, 67, 0.3), 0px 1px 3px 1px rgba(60, 64, 67, 0.15);\n",
              "      fill: #174EA6;\n",
              "    }\n",
              "\n",
              "    [theme=dark] .colab-df-convert {\n",
              "      background-color: #3B4455;\n",
              "      fill: #D2E3FC;\n",
              "    }\n",
              "\n",
              "    [theme=dark] .colab-df-convert:hover {\n",
              "      background-color: #434B5C;\n",
              "      box-shadow: 0px 1px 3px 1px rgba(0, 0, 0, 0.15);\n",
              "      filter: drop-shadow(0px 1px 2px rgba(0, 0, 0, 0.3));\n",
              "      fill: #FFFFFF;\n",
              "    }\n",
              "  </style>\n",
              "\n",
              "      <script>\n",
              "        const buttonEl =\n",
              "          document.querySelector('#df-1d22c4c6-fb73-4313-b675-c4db6f42f77c button.colab-df-convert');\n",
              "        buttonEl.style.display =\n",
              "          google.colab.kernel.accessAllowed ? 'block' : 'none';\n",
              "\n",
              "        async function convertToInteractive(key) {\n",
              "          const element = document.querySelector('#df-1d22c4c6-fb73-4313-b675-c4db6f42f77c');\n",
              "          const dataTable =\n",
              "            await google.colab.kernel.invokeFunction('convertToInteractive',\n",
              "                                                     [key], {});\n",
              "          if (!dataTable) return;\n",
              "\n",
              "          const docLinkHtml = 'Like what you see? Visit the ' +\n",
              "            '<a target=\"_blank\" href=https://colab.research.google.com/notebooks/data_table.ipynb>data table notebook</a>'\n",
              "            + ' to learn more about interactive tables.';\n",
              "          element.innerHTML = '';\n",
              "          dataTable['output_type'] = 'display_data';\n",
              "          await google.colab.output.renderOutput(dataTable, element);\n",
              "          const docLink = document.createElement('div');\n",
              "          docLink.innerHTML = docLinkHtml;\n",
              "          element.appendChild(docLink);\n",
              "        }\n",
              "      </script>\n",
              "    </div>\n",
              "  </div>\n",
              "  "
            ]
          },
          "metadata": {},
          "execution_count": 62
        }
      ],
      "source": [
        "df.head(10)"
      ]
    },
    {
      "cell_type": "code",
      "execution_count": 63,
      "metadata": {
        "id": "wVt2nQ9wIwzl"
      },
      "outputs": [],
      "source": [
        "# Independent variable \n",
        "X_data = df.drop('price',axis =1 )\n",
        "\n",
        "# dependent variable \n",
        "y_data = df['price']"
      ]
    },
    {
      "cell_type": "markdown",
      "metadata": {
        "id": "B4kzIaJuLmMx"
      },
      "source": [
        "### **Train-Test Split**"
      ]
    },
    {
      "cell_type": "code",
      "execution_count": 64,
      "metadata": {
        "id": "Ey0zGcfpLjU5"
      },
      "outputs": [],
      "source": [
        "#importing train test split from sklearm\n",
        "from sklearn.model_selection import train_test_split\n",
        "X_train, X_test, y_train, y_test = train_test_split(X_data, y_data, test_size=0.2, random_state=42)"
      ]
    },
    {
      "cell_type": "code",
      "execution_count": 65,
      "metadata": {
        "colab": {
          "base_uri": "https://localhost:8080/"
        },
        "id": "bE8ZlrGVL4MY",
        "outputId": "967adeb6-1ff1-46e3-e051-d5519ecc3488"
      },
      "outputs": [
        {
          "output_type": "stream",
          "name": "stdout",
          "text": [
            "Shape of X_train:  (28157, 14)\n",
            "Shape of y_train:  (28157,)\n",
            "Shape of X_test:  (7040, 14)\n",
            "Shape of y_test:  (7040,)\n"
          ]
        }
      ],
      "source": [
        "print (\"Shape of X_train: \",X_train.shape) \n",
        "print (\"Shape of y_train: \",y_train.shape)\n",
        "print (\"Shape of X_test: \",X_test.shape)\n",
        "print (\"Shape of y_test: \", y_test.shape)"
      ]
    },
    {
      "cell_type": "code",
      "execution_count": 66,
      "metadata": {
        "id": "6xTNyjqFMVuh"
      },
      "outputs": [],
      "source": [
        "# Feature Scaling\n",
        "from sklearn.preprocessing import StandardScaler\n",
        "\n",
        "sc = StandardScaler()\n",
        "X_train= sc.fit_transform(X_train)\n",
        "X_test= sc.transform(X_test)"
      ]
    },
    {
      "cell_type": "code",
      "execution_count": 67,
      "metadata": {
        "id": "OmJyfzONM8P5"
      },
      "outputs": [],
      "source": [
        "from sklearn.preprocessing import MinMaxScaler\n",
        "sc = MinMaxScaler()   \n",
        "X_train= sc.fit_transform(X_train)\n",
        "X_test= sc.transform(X_test)"
      ]
    },
    {
      "cell_type": "code",
      "execution_count": 68,
      "metadata": {
        "id": "FZ3Bj7cNM-Lp"
      },
      "outputs": [],
      "source": [
        "# import xgboost\n",
        "# from sklearn.metrics import mean_squared_error as MSE\n",
        "# from sklearn import metrics\n",
        "# import numpy as np"
      ]
    },
    {
      "cell_type": "code",
      "execution_count": 69,
      "metadata": {
        "id": "_yJUmg7YNDP_"
      },
      "outputs": [],
      "source": [
        "# from xgboost import XGBRegressor\n",
        "# model = XGBRegressor(n_estimators=1000, max_depth=7, eta=0.1, subsample=0.7, colsample_bytree=0.8)\n",
        "\n",
        "# model.fit(X_train, y_train)\n",
        "# y_pred = model.predict(X_test)\n",
        "\n",
        "# print('Model Score:',model.score(X_test,y_test))\n",
        "# print('Mean Absolute Error:', round(metrics.mean_absolute_error(y_test, y_pred),2))\n",
        "# print('Mean Squared Error:', round(metrics.mean_squared_error(y_test, y_pred),2))\n",
        "# print('Root Mean Squared Error:', round(np.sqrt(metrics.mean_squared_error(y_test, y_pred)),2))"
      ]
    },
    {
      "cell_type": "code",
      "execution_count": 70,
      "metadata": {
        "id": "4Yd4FlMdNFkR"
      },
      "outputs": [],
      "source": [
        "\n",
        "# from sklearn.tree import DecisionTreeRegressor \n",
        "# dec_regressor = DecisionTreeRegressor(random_state = 0) \n",
        "# dec_regressor.fit(X_train, y_train)\n",
        "\n",
        "# print('Model Score:',dec_regressor.score(X_test,y_test))\n",
        "# print('Mean Absolute Error:', round(metrics.mean_absolute_error(y_test, y_pred),2))\n",
        "# print('Mean Squared Error:', round(metrics.mean_squared_error(y_test, y_pred),2))\n",
        "# print('Root Mean Squared Error:', round(np.sqrt(metrics.mean_squared_error(y_test, y_pred)),2))"
      ]
    },
    {
      "cell_type": "code",
      "execution_count": 71,
      "metadata": {
        "id": "kihUGNHNNTr_"
      },
      "outputs": [],
      "source": [
        "# from sklearn.ensemble import RandomForestRegressor\n",
        "# from sklearn import metrics\n",
        "# from sklearn.metrics import mean_squared_error as MSE\n",
        "# import numpy as np\n",
        "\n",
        "# n_est = [10,100]\n",
        "# for i in n_est:\n",
        "#   regressor = RandomForestRegressor(n_estimators=i, random_state=42)\n",
        "#   regressor.fit(X_train, y_train)\n",
        "#   y_pred = regressor.predict(X_test)\n",
        "#   print('n_estimators:',i)\n",
        "#   print('Model Score:',regressor.score(X_test,y_test))\n",
        "#   print('Mean Absolute Error:', round(metrics.mean_absolute_error(y_test, y_pred),2))\n",
        "#   print('Mean Squared Error:', round(metrics.mean_squared_error(y_test, y_pred),2))\n",
        "#   print('Root Mean Squared Error:' , round(np.sqrt(metrics.mean_squared_error(y_test, y_pred)),2))"
      ]
    },
    {
      "cell_type": "markdown",
      "metadata": {
        "id": "PimqybSHHx4p"
      },
      "source": [
        "**DECISION TREE REGRESSOR**"
      ]
    },
    {
      "cell_type": "code",
      "execution_count": 72,
      "metadata": {
        "colab": {
          "base_uri": "https://localhost:8080/"
        },
        "id": "lUVOZi1-Nm1O",
        "outputId": "5ee7486f-68a2-40fa-882e-89508605a66c"
      },
      "outputs": [
        {
          "output_type": "execute_result",
          "data": {
            "text/plain": [
              "DecisionTreeRegressor(random_state=0)"
            ]
          },
          "metadata": {},
          "execution_count": 72
        }
      ],
      "source": [
        "# importing decision tree regressor from tree module\n",
        "from sklearn.tree import DecisionTreeRegressor \n",
        "\n",
        "# Create a decision tree regressor\n",
        "decision_regressor = DecisionTreeRegressor(random_state = 0) \n",
        "\n",
        "# Train the model using the training sets\n",
        "decision_regressor.fit(X_train, y_train)\n"
      ]
    },
    {
      "cell_type": "code",
      "execution_count": 73,
      "metadata": {
        "colab": {
          "base_uri": "https://localhost:8080/"
        },
        "id": "6v8jPXDGJMFW",
        "outputId": "fabcaf00-5fcd-409d-b63a-ed840350db3a"
      },
      "outputs": [
        {
          "output_type": "stream",
          "name": "stdout",
          "text": [
            "Model Score: 0.659\n",
            "Mean Absolute Error: 4211.4\n",
            "Mean Squared Error: 54064156.1\n",
            "Root Mean Squared Error: 7352.83\n"
          ]
        }
      ],
      "source": [
        "from sklearn.metrics import r2_score\n",
        "from sklearn.metrics import mean_squared_error\n",
        "from sklearn.metrics import mean_absolute_error\n",
        "\n",
        "\n",
        "y_pred = decision_regressor.predict(X_test)\n",
        "\n",
        "print('Model Score:',round(r2_score(y_test, y_pred),3))\n",
        "print('Mean Absolute Error:', round(mean_absolute_error(y_test, y_pred),2))\n",
        "print('Mean Squared Error:', round(mean_squared_error(y_test, y_pred),2))\n",
        "print('Root Mean Squared Error:' , round(np.sqrt(mean_squared_error(y_test, y_pred)),2))"
      ]
    },
    {
      "cell_type": "markdown",
      "metadata": {
        "id": "LUvYFi3cHxGU"
      },
      "source": [
        "**RANDOM FOREST REGRESSOR**"
      ]
    },
    {
      "cell_type": "code",
      "execution_count": 74,
      "metadata": {
        "colab": {
          "base_uri": "https://localhost:8080/"
        },
        "id": "Ti5aJ-eSMBOx",
        "outputId": "fb4e5efd-0772-416c-f29c-24e6c1af6bf1"
      },
      "outputs": [
        {
          "output_type": "execute_result",
          "data": {
            "text/plain": [
              "RandomForestRegressor(random_state=42)"
            ]
          },
          "metadata": {},
          "execution_count": 74
        }
      ],
      "source": [
        "# importing Random Forest regressor from ensemble module\n",
        "from sklearn.ensemble import RandomForestRegressor\n",
        "\n",
        "# Create a Random Forest regressor\n",
        "RandomForest_regressor = RandomForestRegressor(n_estimators=100, random_state=42)\n",
        "\n",
        "# Train the model using the training sets\n",
        "RandomForest_regressor.fit(X_train, y_train)\n"
      ]
    },
    {
      "cell_type": "code",
      "execution_count": 75,
      "metadata": {
        "colab": {
          "base_uri": "https://localhost:8080/"
        },
        "id": "amCL0nAgMvF6",
        "outputId": "bd117a00-ffa7-4797-c351-3529d9919d3c"
      },
      "outputs": [
        {
          "output_type": "stream",
          "name": "stdout",
          "text": [
            "Model Score: 0.82\n",
            "Mean Absolute Error: 3218.113\n",
            "Mean Squared Error: 28493262.43\n",
            "Root Mean Squared Error: 5337.91\n"
          ]
        }
      ],
      "source": [
        "from sklearn.metrics import r2_score\n",
        "from sklearn.metrics import mean_squared_error\n",
        "from sklearn.metrics import mean_absolute_error\n",
        "\n",
        "\n",
        "y_pred = RandomForest_regressor.predict(X_test)\n",
        "\n",
        "print('Model Score:',round(r2_score(y_test, y_pred),3))\n",
        "print('Mean Absolute Error:', round(mean_absolute_error(y_test, y_pred),3))\n",
        "print('Mean Squared Error:', round(mean_squared_error(y_test, y_pred),2))\n",
        "print('Root Mean Squared Error:' , round(np.sqrt(mean_squared_error(y_test, y_pred)),2))"
      ]
    },
    {
      "cell_type": "markdown",
      "metadata": {
        "id": "RlOR0ru4PEIH"
      },
      "source": [
        "**XGBOOST REGRESSION**"
      ]
    },
    {
      "cell_type": "code",
      "execution_count": 76,
      "metadata": {
        "colab": {
          "base_uri": "https://localhost:8080/"
        },
        "id": "0UMijE3vNJ2O",
        "outputId": "40621794-a80c-48c0-9293-1c55ac94b57c"
      },
      "outputs": [
        {
          "output_type": "stream",
          "name": "stdout",
          "text": [
            "[06:27:50] WARNING: /workspace/src/objective/regression_obj.cu:152: reg:linear is now deprecated in favor of reg:squarederror.\n"
          ]
        },
        {
          "output_type": "execute_result",
          "data": {
            "text/plain": [
              "XGBRegressor(colsample_bytree=0.8, eta=0.1, max_depth=7, n_estimators=1000,\n",
              "             subsample=0.7)"
            ]
          },
          "metadata": {},
          "execution_count": 76
        }
      ],
      "source": [
        "# importing XGBRegressor from xgboost\n",
        "from xgboost import XGBRegressor\n",
        "\n",
        "# Create a XGBoost regressor\n",
        "XGBoost_regressor = XGBRegressor(n_estimators=1000, max_depth=7, eta=0.1, subsample=0.7, colsample_bytree=0.8)\n",
        "\n",
        "# Train the model using the training sets\n",
        "XGBoost_regressor.fit(X_train, y_train)"
      ]
    },
    {
      "cell_type": "code",
      "execution_count": 77,
      "metadata": {
        "colab": {
          "base_uri": "https://localhost:8080/"
        },
        "id": "ZivkSu8TUcnH",
        "outputId": "d49f326e-eb04-494e-8a4e-992da3b44381"
      },
      "outputs": [
        {
          "output_type": "stream",
          "name": "stdout",
          "text": [
            "Model Score: 0.866\n",
            "Mean Absolute Error: 2720.289\n",
            "Mean Squared Error: 21150130.79\n",
            "Root Mean Squared Error: 4598.93\n"
          ]
        }
      ],
      "source": [
        "from sklearn.metrics import r2_score\n",
        "from sklearn.metrics import mean_squared_error as MSE\n",
        "from sklearn.metrics import mean_absolute_error\n",
        "\n",
        "y_pred = XGBoost_regressor.predict(X_test)\n",
        "\n",
        "print('Model Score:',round(r2_score(y_test, y_pred),3))\n",
        "print('Mean Absolute Error:', round(mean_absolute_error(y_test, y_pred),3))\n",
        "print('Mean Squared Error:', round(mean_squared_error(y_test, y_pred),2))\n",
        "print('Root Mean Squared Error:' , round(np.sqrt(mean_squared_error(y_test, y_pred)),2))"
      ]
    },
    {
      "cell_type": "code",
      "execution_count": 77,
      "metadata": {
        "id": "rwCrVpKwi8HW"
      },
      "outputs": [],
      "source": [
        ""
      ]
    },
    {
      "cell_type": "markdown",
      "source": [
        "**Feature Sekection**\n",
        "\n",
        "\n",
        "1.   Univariate Selection\n",
        "2.   Feature Importance\n",
        "3.   Correlation Matrix With Heatmap\n",
        "\n"
      ],
      "metadata": {
        "id": "glEOfF2ncm5t"
      }
    },
    {
      "cell_type": "code",
      "source": [
        "# Univariate Selection\n",
        "\n",
        "from sklearn.feature_selection import SelectKBest\n",
        "from sklearn.feature_selection import chi2\n",
        "\n",
        "X  = df.drop('price', axis=1)\n",
        "y = df['price']\n",
        "\n",
        "Imp_features = SelectKBest(score_func = chi2 , k=10)\n",
        "fit = Imp_features.fit(X,y)\n",
        "dfscores = pd.DataFrame(fit.scores_)\n",
        "dfcolumns = pd.DataFrame(X.columns)\n",
        "featurescores = pd.concat([dfcolumns,dfscores.applymap(lambda x: f\"{x:0.3f}\")],axis=1)\n",
        "featurescores.columns = ['features','Score'] #naming the dataframe columns\n",
        "featurescores.sort_values(by='Score', ascending=False , axis = 0)"
      ],
      "metadata": {
        "colab": {
          "base_uri": "https://localhost:8080/",
          "height": 488
        },
        "id": "ch43wM8Cc2es",
        "outputId": "97003afb-0122-46e9-ac1e-d7ccee8701de"
      },
      "execution_count": 78,
      "outputs": [
        {
          "output_type": "execute_result",
          "data": {
            "text/plain": [
              "        features          Score\n",
              "11          size        952.707\n",
              "7       odometer  734390105.847\n",
              "3          model    5858589.808\n",
              "10         drive       5731.308\n",
              "4      condition       4096.391\n",
              "9   transmission      35192.153\n",
              "2   manufacturer      34739.758\n",
              "0         region     343031.591\n",
              "1           year        310.390\n",
              "6           fuel       2444.523\n",
              "8   title_status      16715.551\n",
              "5      cylinders       1667.370\n",
              "12          type      13284.052\n",
              "13   paint_color      13001.964"
            ],
            "text/html": [
              "\n",
              "  <div id=\"df-862a858f-3ec3-4740-b21a-ff3dd2f86f28\">\n",
              "    <div class=\"colab-df-container\">\n",
              "      <div>\n",
              "<style scoped>\n",
              "    .dataframe tbody tr th:only-of-type {\n",
              "        vertical-align: middle;\n",
              "    }\n",
              "\n",
              "    .dataframe tbody tr th {\n",
              "        vertical-align: top;\n",
              "    }\n",
              "\n",
              "    .dataframe thead th {\n",
              "        text-align: right;\n",
              "    }\n",
              "</style>\n",
              "<table border=\"1\" class=\"dataframe\">\n",
              "  <thead>\n",
              "    <tr style=\"text-align: right;\">\n",
              "      <th></th>\n",
              "      <th>features</th>\n",
              "      <th>Score</th>\n",
              "    </tr>\n",
              "  </thead>\n",
              "  <tbody>\n",
              "    <tr>\n",
              "      <th>11</th>\n",
              "      <td>size</td>\n",
              "      <td>952.707</td>\n",
              "    </tr>\n",
              "    <tr>\n",
              "      <th>7</th>\n",
              "      <td>odometer</td>\n",
              "      <td>734390105.847</td>\n",
              "    </tr>\n",
              "    <tr>\n",
              "      <th>3</th>\n",
              "      <td>model</td>\n",
              "      <td>5858589.808</td>\n",
              "    </tr>\n",
              "    <tr>\n",
              "      <th>10</th>\n",
              "      <td>drive</td>\n",
              "      <td>5731.308</td>\n",
              "    </tr>\n",
              "    <tr>\n",
              "      <th>4</th>\n",
              "      <td>condition</td>\n",
              "      <td>4096.391</td>\n",
              "    </tr>\n",
              "    <tr>\n",
              "      <th>9</th>\n",
              "      <td>transmission</td>\n",
              "      <td>35192.153</td>\n",
              "    </tr>\n",
              "    <tr>\n",
              "      <th>2</th>\n",
              "      <td>manufacturer</td>\n",
              "      <td>34739.758</td>\n",
              "    </tr>\n",
              "    <tr>\n",
              "      <th>0</th>\n",
              "      <td>region</td>\n",
              "      <td>343031.591</td>\n",
              "    </tr>\n",
              "    <tr>\n",
              "      <th>1</th>\n",
              "      <td>year</td>\n",
              "      <td>310.390</td>\n",
              "    </tr>\n",
              "    <tr>\n",
              "      <th>6</th>\n",
              "      <td>fuel</td>\n",
              "      <td>2444.523</td>\n",
              "    </tr>\n",
              "    <tr>\n",
              "      <th>8</th>\n",
              "      <td>title_status</td>\n",
              "      <td>16715.551</td>\n",
              "    </tr>\n",
              "    <tr>\n",
              "      <th>5</th>\n",
              "      <td>cylinders</td>\n",
              "      <td>1667.370</td>\n",
              "    </tr>\n",
              "    <tr>\n",
              "      <th>12</th>\n",
              "      <td>type</td>\n",
              "      <td>13284.052</td>\n",
              "    </tr>\n",
              "    <tr>\n",
              "      <th>13</th>\n",
              "      <td>paint_color</td>\n",
              "      <td>13001.964</td>\n",
              "    </tr>\n",
              "  </tbody>\n",
              "</table>\n",
              "</div>\n",
              "      <button class=\"colab-df-convert\" onclick=\"convertToInteractive('df-862a858f-3ec3-4740-b21a-ff3dd2f86f28')\"\n",
              "              title=\"Convert this dataframe to an interactive table.\"\n",
              "              style=\"display:none;\">\n",
              "        \n",
              "  <svg xmlns=\"http://www.w3.org/2000/svg\" height=\"24px\"viewBox=\"0 0 24 24\"\n",
              "       width=\"24px\">\n",
              "    <path d=\"M0 0h24v24H0V0z\" fill=\"none\"/>\n",
              "    <path d=\"M18.56 5.44l.94 2.06.94-2.06 2.06-.94-2.06-.94-.94-2.06-.94 2.06-2.06.94zm-11 1L8.5 8.5l.94-2.06 2.06-.94-2.06-.94L8.5 2.5l-.94 2.06-2.06.94zm10 10l.94 2.06.94-2.06 2.06-.94-2.06-.94-.94-2.06-.94 2.06-2.06.94z\"/><path d=\"M17.41 7.96l-1.37-1.37c-.4-.4-.92-.59-1.43-.59-.52 0-1.04.2-1.43.59L10.3 9.45l-7.72 7.72c-.78.78-.78 2.05 0 2.83L4 21.41c.39.39.9.59 1.41.59.51 0 1.02-.2 1.41-.59l7.78-7.78 2.81-2.81c.8-.78.8-2.07 0-2.86zM5.41 20L4 18.59l7.72-7.72 1.47 1.35L5.41 20z\"/>\n",
              "  </svg>\n",
              "      </button>\n",
              "      \n",
              "  <style>\n",
              "    .colab-df-container {\n",
              "      display:flex;\n",
              "      flex-wrap:wrap;\n",
              "      gap: 12px;\n",
              "    }\n",
              "\n",
              "    .colab-df-convert {\n",
              "      background-color: #E8F0FE;\n",
              "      border: none;\n",
              "      border-radius: 50%;\n",
              "      cursor: pointer;\n",
              "      display: none;\n",
              "      fill: #1967D2;\n",
              "      height: 32px;\n",
              "      padding: 0 0 0 0;\n",
              "      width: 32px;\n",
              "    }\n",
              "\n",
              "    .colab-df-convert:hover {\n",
              "      background-color: #E2EBFA;\n",
              "      box-shadow: 0px 1px 2px rgba(60, 64, 67, 0.3), 0px 1px 3px 1px rgba(60, 64, 67, 0.15);\n",
              "      fill: #174EA6;\n",
              "    }\n",
              "\n",
              "    [theme=dark] .colab-df-convert {\n",
              "      background-color: #3B4455;\n",
              "      fill: #D2E3FC;\n",
              "    }\n",
              "\n",
              "    [theme=dark] .colab-df-convert:hover {\n",
              "      background-color: #434B5C;\n",
              "      box-shadow: 0px 1px 3px 1px rgba(0, 0, 0, 0.15);\n",
              "      filter: drop-shadow(0px 1px 2px rgba(0, 0, 0, 0.3));\n",
              "      fill: #FFFFFF;\n",
              "    }\n",
              "  </style>\n",
              "\n",
              "      <script>\n",
              "        const buttonEl =\n",
              "          document.querySelector('#df-862a858f-3ec3-4740-b21a-ff3dd2f86f28 button.colab-df-convert');\n",
              "        buttonEl.style.display =\n",
              "          google.colab.kernel.accessAllowed ? 'block' : 'none';\n",
              "\n",
              "        async function convertToInteractive(key) {\n",
              "          const element = document.querySelector('#df-862a858f-3ec3-4740-b21a-ff3dd2f86f28');\n",
              "          const dataTable =\n",
              "            await google.colab.kernel.invokeFunction('convertToInteractive',\n",
              "                                                     [key], {});\n",
              "          if (!dataTable) return;\n",
              "\n",
              "          const docLinkHtml = 'Like what you see? Visit the ' +\n",
              "            '<a target=\"_blank\" href=https://colab.research.google.com/notebooks/data_table.ipynb>data table notebook</a>'\n",
              "            + ' to learn more about interactive tables.';\n",
              "          element.innerHTML = '';\n",
              "          dataTable['output_type'] = 'display_data';\n",
              "          await google.colab.output.renderOutput(dataTable, element);\n",
              "          const docLink = document.createElement('div');\n",
              "          docLink.innerHTML = docLinkHtml;\n",
              "          element.appendChild(docLink);\n",
              "        }\n",
              "      </script>\n",
              "    </div>\n",
              "  </div>\n",
              "  "
            ]
          },
          "metadata": {},
          "execution_count": 78
        }
      ]
    },
    {
      "cell_type": "code",
      "source": [
        "# Feature Importance\n",
        "\n",
        "from sklearn.ensemble import ExtraTreesClassifier\n",
        "import matplotlib.pyplot as plt\n",
        "\n",
        "X  = df.drop('price', axis=1)\n",
        "y = df['price']\n",
        "\n",
        "model= ExtraTreesClassifier()\n",
        "model.fit(X,y)\n",
        "\n",
        "print(model.feature_importances_) # use inbuild class feature_importances of tree based classifiers\n",
        "# plot graph of feature importances for bettervisualization\n",
        "\n",
        "feature_importances = pd.Series(model.feature_importances_ , index = X.columns)\n",
        "feature_importances.nlargest(10).plot(kind='barh')\n",
        "plt.show()\n"
      ],
      "metadata": {
        "id": "NfmIIn6Mf4JS"
      },
      "execution_count": null,
      "outputs": []
    },
    {
      "cell_type": "code",
      "source": [
        ""
      ],
      "metadata": {
        "id": "B1uP_Jongxwf"
      },
      "execution_count": null,
      "outputs": []
    }
  ],
  "metadata": {
    "colab": {
      "collapsed_sections": [],
      "name": "FinalNotebook.ipynb",
      "provenance": [],
      "authorship_tag": "ABX9TyNl8iEHniwynCZRquv9QILY",
      "include_colab_link": true
    },
    "kernelspec": {
      "display_name": "Python 3",
      "name": "python3"
    },
    "language_info": {
      "name": "python"
    }
  },
  "nbformat": 4,
  "nbformat_minor": 0
}